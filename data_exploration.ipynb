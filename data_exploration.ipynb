{
 "cells": [
  {
   "cell_type": "code",
   "execution_count": 2,
   "id": "c2b34a51",
   "metadata": {},
   "outputs": [],
   "source": [
    "import pandas as pd\n",
    "import matplotlib.pyplot as plt\n",
    "import numpy as np\n",
    "import seaborn as sns"
   ]
  },
  {
   "cell_type": "code",
   "execution_count": 45,
   "id": "056fb202",
   "metadata": {},
   "outputs": [],
   "source": [
    "data = pd.read_csv('data/athlete_cleaned.csv')\n",
    "data_short = pd.read_csv('data/athlete_cleaned_short.csv')"
   ]
  },
  {
   "cell_type": "code",
   "execution_count": 46,
   "id": "62e4d005",
   "metadata": {},
   "outputs": [
    {
     "data": {
      "text/html": [
       "<div>\n",
       "<style scoped>\n",
       "    .dataframe tbody tr th:only-of-type {\n",
       "        vertical-align: middle;\n",
       "    }\n",
       "\n",
       "    .dataframe tbody tr th {\n",
       "        vertical-align: top;\n",
       "    }\n",
       "\n",
       "    .dataframe thead th {\n",
       "        text-align: right;\n",
       "    }\n",
       "</style>\n",
       "<table border=\"1\" class=\"dataframe\">\n",
       "  <thead>\n",
       "    <tr style=\"text-align: right;\">\n",
       "      <th></th>\n",
       "      <th>gender</th>\n",
       "      <th>event</th>\n",
       "      <th>medal</th>\n",
       "      <th>type</th>\n",
       "      <th>year</th>\n",
       "      <th>country</th>\n",
       "      <th>abb</th>\n",
       "      <th>athlete</th>\n",
       "    </tr>\n",
       "  </thead>\n",
       "  <tbody>\n",
       "    <tr>\n",
       "      <th>0</th>\n",
       "      <td>Men</td>\n",
       "      <td>Double FITA Round Amputee</td>\n",
       "      <td>Gold</td>\n",
       "      <td>Archery</td>\n",
       "      <td>1980</td>\n",
       "      <td>Denmark</td>\n",
       "      <td>DEN</td>\n",
       "      <td>LARSEN Finn</td>\n",
       "    </tr>\n",
       "    <tr>\n",
       "      <th>1</th>\n",
       "      <td>Men</td>\n",
       "      <td>Double FITA Round Paraplegic</td>\n",
       "      <td>Gold</td>\n",
       "      <td>Archery</td>\n",
       "      <td>1980</td>\n",
       "      <td>FR Germany</td>\n",
       "      <td>FRG</td>\n",
       "      <td>GEISS H.</td>\n",
       "    </tr>\n",
       "    <tr>\n",
       "      <th>2</th>\n",
       "      <td>Men</td>\n",
       "      <td>Double FITA Round Tetraplegic</td>\n",
       "      <td>Gold</td>\n",
       "      <td>Archery</td>\n",
       "      <td>1980</td>\n",
       "      <td>Canada</td>\n",
       "      <td>CAN</td>\n",
       "      <td>PARKER T.</td>\n",
       "    </tr>\n",
       "    <tr>\n",
       "      <th>3</th>\n",
       "      <td>Men</td>\n",
       "      <td>Double FITA Round Novice Paraplegic</td>\n",
       "      <td>Gold</td>\n",
       "      <td>Archery</td>\n",
       "      <td>1980</td>\n",
       "      <td>Mexico</td>\n",
       "      <td>MEX</td>\n",
       "      <td>CHAVEZ Alfredo</td>\n",
       "    </tr>\n",
       "    <tr>\n",
       "      <th>4</th>\n",
       "      <td>Men</td>\n",
       "      <td>Double FITA Round Novice Tetraplegic</td>\n",
       "      <td>Gold</td>\n",
       "      <td>Archery</td>\n",
       "      <td>1980</td>\n",
       "      <td>Finland</td>\n",
       "      <td>FIN</td>\n",
       "      <td>KARKAINEN K.</td>\n",
       "    </tr>\n",
       "    <tr>\n",
       "      <th>...</th>\n",
       "      <td>...</td>\n",
       "      <td>...</td>\n",
       "      <td>...</td>\n",
       "      <td>...</td>\n",
       "      <td>...</td>\n",
       "      <td>...</td>\n",
       "      <td>...</td>\n",
       "      <td>...</td>\n",
       "    </tr>\n",
       "    <tr>\n",
       "      <th>19542</th>\n",
       "      <td>Women</td>\n",
       "      <td>Sitting Volleyball</td>\n",
       "      <td>Bronze</td>\n",
       "      <td>Volleyball</td>\n",
       "      <td>2016</td>\n",
       "      <td>Brazil</td>\n",
       "      <td>BRA</td>\n",
       "      <td>DE ALMEIDA SILVA Nurya</td>\n",
       "    </tr>\n",
       "    <tr>\n",
       "      <th>19543</th>\n",
       "      <td>Women</td>\n",
       "      <td>Sitting Volleyball</td>\n",
       "      <td>Bronze</td>\n",
       "      <td>Volleyball</td>\n",
       "      <td>2016</td>\n",
       "      <td>Brazil</td>\n",
       "      <td>BRA</td>\n",
       "      <td>DE OLIVEIRA DIAS Edwarda</td>\n",
       "    </tr>\n",
       "    <tr>\n",
       "      <th>19544</th>\n",
       "      <td>Women</td>\n",
       "      <td>Sitting Volleyball</td>\n",
       "      <td>Bronze</td>\n",
       "      <td>Volleyball</td>\n",
       "      <td>2016</td>\n",
       "      <td>Brazil</td>\n",
       "      <td>BRA</td>\n",
       "      <td>MARIA LEIRIA DE CASTRO Camila</td>\n",
       "    </tr>\n",
       "    <tr>\n",
       "      <th>19545</th>\n",
       "      <td>Women</td>\n",
       "      <td>Sitting Volleyball</td>\n",
       "      <td>Bronze</td>\n",
       "      <td>Volleyball</td>\n",
       "      <td>2016</td>\n",
       "      <td>Brazil</td>\n",
       "      <td>BRA</td>\n",
       "      <td>PEREIRA Pamela</td>\n",
       "    </tr>\n",
       "    <tr>\n",
       "      <th>19546</th>\n",
       "      <td>Women</td>\n",
       "      <td>Sitting Volleyball</td>\n",
       "      <td>Bronze</td>\n",
       "      <td>Volleyball</td>\n",
       "      <td>2016</td>\n",
       "      <td>Brazil</td>\n",
       "      <td>BRA</td>\n",
       "      <td>RODRIGUES BATISTA Laiana</td>\n",
       "    </tr>\n",
       "  </tbody>\n",
       "</table>\n",
       "<p>19547 rows × 8 columns</p>\n",
       "</div>"
      ],
      "text/plain": [
       "      gender                                 event   medal        type  year  \\\n",
       "0        Men             Double FITA Round Amputee    Gold     Archery  1980   \n",
       "1        Men          Double FITA Round Paraplegic    Gold     Archery  1980   \n",
       "2        Men         Double FITA Round Tetraplegic    Gold     Archery  1980   \n",
       "3        Men   Double FITA Round Novice Paraplegic    Gold     Archery  1980   \n",
       "4        Men  Double FITA Round Novice Tetraplegic    Gold     Archery  1980   \n",
       "...      ...                                   ...     ...         ...   ...   \n",
       "19542  Women                    Sitting Volleyball  Bronze  Volleyball  2016   \n",
       "19543  Women                    Sitting Volleyball  Bronze  Volleyball  2016   \n",
       "19544  Women                    Sitting Volleyball  Bronze  Volleyball  2016   \n",
       "19545  Women                    Sitting Volleyball  Bronze  Volleyball  2016   \n",
       "19546  Women                    Sitting Volleyball  Bronze  Volleyball  2016   \n",
       "\n",
       "          country  abb                        athlete  \n",
       "0         Denmark  DEN                    LARSEN Finn  \n",
       "1      FR Germany  FRG                       GEISS H.  \n",
       "2          Canada  CAN                      PARKER T.  \n",
       "3          Mexico  MEX                 CHAVEZ Alfredo  \n",
       "4         Finland  FIN                   KARKAINEN K.  \n",
       "...           ...  ...                            ...  \n",
       "19542      Brazil  BRA         DE ALMEIDA SILVA Nurya  \n",
       "19543      Brazil  BRA       DE OLIVEIRA DIAS Edwarda  \n",
       "19544      Brazil  BRA  MARIA LEIRIA DE CASTRO Camila  \n",
       "19545      Brazil  BRA                 PEREIRA Pamela  \n",
       "19546      Brazil  BRA       RODRIGUES BATISTA Laiana  \n",
       "\n",
       "[19547 rows x 8 columns]"
      ]
     },
     "execution_count": 46,
     "metadata": {},
     "output_type": "execute_result"
    }
   ],
   "source": [
    "data"
   ]
  },
  {
   "cell_type": "code",
   "execution_count": 47,
   "id": "c54e8ec8",
   "metadata": {},
   "outputs": [
    {
     "data": {
      "text/html": [
       "<div>\n",
       "<style scoped>\n",
       "    .dataframe tbody tr th:only-of-type {\n",
       "        vertical-align: middle;\n",
       "    }\n",
       "\n",
       "    .dataframe tbody tr th {\n",
       "        vertical-align: top;\n",
       "    }\n",
       "\n",
       "    .dataframe thead th {\n",
       "        text-align: right;\n",
       "    }\n",
       "</style>\n",
       "<table border=\"1\" class=\"dataframe\">\n",
       "  <thead>\n",
       "    <tr style=\"text-align: right;\">\n",
       "      <th></th>\n",
       "      <th>gender</th>\n",
       "      <th>medal</th>\n",
       "      <th>type</th>\n",
       "      <th>year</th>\n",
       "      <th>country</th>\n",
       "      <th>abb</th>\n",
       "    </tr>\n",
       "  </thead>\n",
       "  <tbody>\n",
       "    <tr>\n",
       "      <th>0</th>\n",
       "      <td>Men</td>\n",
       "      <td>Gold</td>\n",
       "      <td>Archery</td>\n",
       "      <td>1980</td>\n",
       "      <td>Denmark</td>\n",
       "      <td>DEN</td>\n",
       "    </tr>\n",
       "    <tr>\n",
       "      <th>1</th>\n",
       "      <td>Men</td>\n",
       "      <td>Gold</td>\n",
       "      <td>Archery</td>\n",
       "      <td>1980</td>\n",
       "      <td>FR Germany</td>\n",
       "      <td>FRG</td>\n",
       "    </tr>\n",
       "    <tr>\n",
       "      <th>2</th>\n",
       "      <td>Men</td>\n",
       "      <td>Gold</td>\n",
       "      <td>Archery</td>\n",
       "      <td>1980</td>\n",
       "      <td>Canada</td>\n",
       "      <td>CAN</td>\n",
       "    </tr>\n",
       "    <tr>\n",
       "      <th>3</th>\n",
       "      <td>Men</td>\n",
       "      <td>Gold</td>\n",
       "      <td>Archery</td>\n",
       "      <td>1980</td>\n",
       "      <td>Mexico</td>\n",
       "      <td>MEX</td>\n",
       "    </tr>\n",
       "    <tr>\n",
       "      <th>4</th>\n",
       "      <td>Men</td>\n",
       "      <td>Gold</td>\n",
       "      <td>Archery</td>\n",
       "      <td>1980</td>\n",
       "      <td>Finland</td>\n",
       "      <td>FIN</td>\n",
       "    </tr>\n",
       "    <tr>\n",
       "      <th>...</th>\n",
       "      <td>...</td>\n",
       "      <td>...</td>\n",
       "      <td>...</td>\n",
       "      <td>...</td>\n",
       "      <td>...</td>\n",
       "      <td>...</td>\n",
       "    </tr>\n",
       "    <tr>\n",
       "      <th>19542</th>\n",
       "      <td>Women</td>\n",
       "      <td>Bronze</td>\n",
       "      <td>Volleyball</td>\n",
       "      <td>2016</td>\n",
       "      <td>Brazil</td>\n",
       "      <td>BRA</td>\n",
       "    </tr>\n",
       "    <tr>\n",
       "      <th>19543</th>\n",
       "      <td>Women</td>\n",
       "      <td>Bronze</td>\n",
       "      <td>Volleyball</td>\n",
       "      <td>2016</td>\n",
       "      <td>Brazil</td>\n",
       "      <td>BRA</td>\n",
       "    </tr>\n",
       "    <tr>\n",
       "      <th>19544</th>\n",
       "      <td>Women</td>\n",
       "      <td>Bronze</td>\n",
       "      <td>Volleyball</td>\n",
       "      <td>2016</td>\n",
       "      <td>Brazil</td>\n",
       "      <td>BRA</td>\n",
       "    </tr>\n",
       "    <tr>\n",
       "      <th>19545</th>\n",
       "      <td>Women</td>\n",
       "      <td>Bronze</td>\n",
       "      <td>Volleyball</td>\n",
       "      <td>2016</td>\n",
       "      <td>Brazil</td>\n",
       "      <td>BRA</td>\n",
       "    </tr>\n",
       "    <tr>\n",
       "      <th>19546</th>\n",
       "      <td>Women</td>\n",
       "      <td>Bronze</td>\n",
       "      <td>Volleyball</td>\n",
       "      <td>2016</td>\n",
       "      <td>Brazil</td>\n",
       "      <td>BRA</td>\n",
       "    </tr>\n",
       "  </tbody>\n",
       "</table>\n",
       "<p>19547 rows × 6 columns</p>\n",
       "</div>"
      ],
      "text/plain": [
       "      gender   medal        type  year     country  abb\n",
       "0        Men    Gold     Archery  1980     Denmark  DEN\n",
       "1        Men    Gold     Archery  1980  FR Germany  FRG\n",
       "2        Men    Gold     Archery  1980      Canada  CAN\n",
       "3        Men    Gold     Archery  1980      Mexico  MEX\n",
       "4        Men    Gold     Archery  1980     Finland  FIN\n",
       "...      ...     ...         ...   ...         ...  ...\n",
       "19542  Women  Bronze  Volleyball  2016      Brazil  BRA\n",
       "19543  Women  Bronze  Volleyball  2016      Brazil  BRA\n",
       "19544  Women  Bronze  Volleyball  2016      Brazil  BRA\n",
       "19545  Women  Bronze  Volleyball  2016      Brazil  BRA\n",
       "19546  Women  Bronze  Volleyball  2016      Brazil  BRA\n",
       "\n",
       "[19547 rows x 6 columns]"
      ]
     },
     "execution_count": 47,
     "metadata": {},
     "output_type": "execute_result"
    }
   ],
   "source": [
    "data_short"
   ]
  },
  {
   "cell_type": "code",
   "execution_count": 48,
   "id": "ed263193",
   "metadata": {},
   "outputs": [
    {
     "data": {
      "text/html": [
       "<div>\n",
       "<style scoped>\n",
       "    .dataframe tbody tr th:only-of-type {\n",
       "        vertical-align: middle;\n",
       "    }\n",
       "\n",
       "    .dataframe tbody tr th {\n",
       "        vertical-align: top;\n",
       "    }\n",
       "\n",
       "    .dataframe thead th {\n",
       "        text-align: right;\n",
       "    }\n",
       "</style>\n",
       "<table border=\"1\" class=\"dataframe\">\n",
       "  <thead>\n",
       "    <tr style=\"text-align: right;\">\n",
       "      <th></th>\n",
       "      <th>gender</th>\n",
       "      <th>event</th>\n",
       "      <th>medal</th>\n",
       "      <th>type</th>\n",
       "      <th>year</th>\n",
       "      <th>country</th>\n",
       "      <th>abb</th>\n",
       "      <th>athlete</th>\n",
       "    </tr>\n",
       "  </thead>\n",
       "  <tbody>\n",
       "    <tr>\n",
       "      <th>count</th>\n",
       "      <td>19547</td>\n",
       "      <td>19547</td>\n",
       "      <td>19547</td>\n",
       "      <td>19547</td>\n",
       "      <td>19547.000000</td>\n",
       "      <td>19547</td>\n",
       "      <td>19547</td>\n",
       "      <td>19547</td>\n",
       "    </tr>\n",
       "    <tr>\n",
       "      <th>unique</th>\n",
       "      <td>4</td>\n",
       "      <td>1670</td>\n",
       "      <td>3</td>\n",
       "      <td>11</td>\n",
       "      <td>NaN</td>\n",
       "      <td>56</td>\n",
       "      <td>117</td>\n",
       "      <td>6797</td>\n",
       "    </tr>\n",
       "    <tr>\n",
       "      <th>top</th>\n",
       "      <td>Men</td>\n",
       "      <td>Tournament</td>\n",
       "      <td>Gold</td>\n",
       "      <td>Athletics</td>\n",
       "      <td>NaN</td>\n",
       "      <td>United States of America</td>\n",
       "      <td>USA</td>\n",
       "      <td>-</td>\n",
       "    </tr>\n",
       "    <tr>\n",
       "      <th>freq</th>\n",
       "      <td>11982</td>\n",
       "      <td>450</td>\n",
       "      <td>6611</td>\n",
       "      <td>7713</td>\n",
       "      <td>NaN</td>\n",
       "      <td>1901</td>\n",
       "      <td>1901</td>\n",
       "      <td>60</td>\n",
       "    </tr>\n",
       "    <tr>\n",
       "      <th>mean</th>\n",
       "      <td>NaN</td>\n",
       "      <td>NaN</td>\n",
       "      <td>NaN</td>\n",
       "      <td>NaN</td>\n",
       "      <td>1996.723385</td>\n",
       "      <td>NaN</td>\n",
       "      <td>NaN</td>\n",
       "      <td>NaN</td>\n",
       "    </tr>\n",
       "    <tr>\n",
       "      <th>std</th>\n",
       "      <td>NaN</td>\n",
       "      <td>NaN</td>\n",
       "      <td>NaN</td>\n",
       "      <td>NaN</td>\n",
       "      <td>11.300594</td>\n",
       "      <td>NaN</td>\n",
       "      <td>NaN</td>\n",
       "      <td>NaN</td>\n",
       "    </tr>\n",
       "    <tr>\n",
       "      <th>min</th>\n",
       "      <td>NaN</td>\n",
       "      <td>NaN</td>\n",
       "      <td>NaN</td>\n",
       "      <td>NaN</td>\n",
       "      <td>1980.000000</td>\n",
       "      <td>NaN</td>\n",
       "      <td>NaN</td>\n",
       "      <td>NaN</td>\n",
       "    </tr>\n",
       "    <tr>\n",
       "      <th>25%</th>\n",
       "      <td>NaN</td>\n",
       "      <td>NaN</td>\n",
       "      <td>NaN</td>\n",
       "      <td>NaN</td>\n",
       "      <td>1988.000000</td>\n",
       "      <td>NaN</td>\n",
       "      <td>NaN</td>\n",
       "      <td>NaN</td>\n",
       "    </tr>\n",
       "    <tr>\n",
       "      <th>50%</th>\n",
       "      <td>NaN</td>\n",
       "      <td>NaN</td>\n",
       "      <td>NaN</td>\n",
       "      <td>NaN</td>\n",
       "      <td>1996.000000</td>\n",
       "      <td>NaN</td>\n",
       "      <td>NaN</td>\n",
       "      <td>NaN</td>\n",
       "    </tr>\n",
       "    <tr>\n",
       "      <th>75%</th>\n",
       "      <td>NaN</td>\n",
       "      <td>NaN</td>\n",
       "      <td>NaN</td>\n",
       "      <td>NaN</td>\n",
       "      <td>2008.000000</td>\n",
       "      <td>NaN</td>\n",
       "      <td>NaN</td>\n",
       "      <td>NaN</td>\n",
       "    </tr>\n",
       "    <tr>\n",
       "      <th>max</th>\n",
       "      <td>NaN</td>\n",
       "      <td>NaN</td>\n",
       "      <td>NaN</td>\n",
       "      <td>NaN</td>\n",
       "      <td>2016.000000</td>\n",
       "      <td>NaN</td>\n",
       "      <td>NaN</td>\n",
       "      <td>NaN</td>\n",
       "    </tr>\n",
       "  </tbody>\n",
       "</table>\n",
       "</div>"
      ],
      "text/plain": [
       "       gender       event  medal       type          year  \\\n",
       "count   19547       19547  19547      19547  19547.000000   \n",
       "unique      4        1670      3         11           NaN   \n",
       "top       Men  Tournament   Gold  Athletics           NaN   \n",
       "freq    11982         450   6611       7713           NaN   \n",
       "mean      NaN         NaN    NaN        NaN   1996.723385   \n",
       "std       NaN         NaN    NaN        NaN     11.300594   \n",
       "min       NaN         NaN    NaN        NaN   1980.000000   \n",
       "25%       NaN         NaN    NaN        NaN   1988.000000   \n",
       "50%       NaN         NaN    NaN        NaN   1996.000000   \n",
       "75%       NaN         NaN    NaN        NaN   2008.000000   \n",
       "max       NaN         NaN    NaN        NaN   2016.000000   \n",
       "\n",
       "                         country    abb athlete  \n",
       "count                      19547  19547   19547  \n",
       "unique                        56    117    6797  \n",
       "top     United States of America    USA       -  \n",
       "freq                        1901   1901      60  \n",
       "mean                         NaN    NaN     NaN  \n",
       "std                          NaN    NaN     NaN  \n",
       "min                          NaN    NaN     NaN  \n",
       "25%                          NaN    NaN     NaN  \n",
       "50%                          NaN    NaN     NaN  \n",
       "75%                          NaN    NaN     NaN  \n",
       "max                          NaN    NaN     NaN  "
      ]
     },
     "execution_count": 48,
     "metadata": {},
     "output_type": "execute_result"
    }
   ],
   "source": [
    "data.describe(include='all')"
   ]
  },
  {
   "cell_type": "code",
   "execution_count": 49,
   "id": "1abcd904",
   "metadata": {},
   "outputs": [
    {
     "data": {
      "text/plain": [
       "gender     object\n",
       "event      object\n",
       "medal      object\n",
       "type       object\n",
       "year        int64\n",
       "country    object\n",
       "abb        object\n",
       "athlete    object\n",
       "dtype: object"
      ]
     },
     "execution_count": 49,
     "metadata": {},
     "output_type": "execute_result"
    }
   ],
   "source": [
    "data.dtypes"
   ]
  },
  {
   "cell_type": "code",
   "execution_count": 50,
   "id": "4fcdf22d",
   "metadata": {},
   "outputs": [],
   "source": [
    "for c in data.columns:\n",
    "    if data[c].dtype == 'O':\n",
    "        data[c] = data[c].astype('category')"
   ]
  },
  {
   "cell_type": "code",
   "execution_count": 51,
   "id": "000cb955",
   "metadata": {},
   "outputs": [
    {
     "data": {
      "text/plain": [
       "Index(['gender', 'event', 'medal', 'type', 'year', 'country', 'abb',\n",
       "       'athlete'],\n",
       "      dtype='object')"
      ]
     },
     "execution_count": 51,
     "metadata": {},
     "output_type": "execute_result"
    }
   ],
   "source": [
    "data.columns"
   ]
  },
  {
   "cell_type": "code",
   "execution_count": 41,
   "id": "1e063bfd",
   "metadata": {},
   "outputs": [
    {
     "data": {
      "image/png": "[encoded data removed]",
      "text/plain": [
       "<Figure size 1080x576 with 1 Axes>"
      ]
     },
     "metadata": {
      "needs_background": "light"
     },
     "output_type": "display_data"
    }
   ],
   "source": [
    "plt.rcParams[\"figure.figsize\"] = (15,8)\n",
    "ax = sns.countplot(x=\"type\", data=data)"
   ]
  },
  {
   "cell_type": "code",
   "execution_count": 57,
   "id": "da136178",
   "metadata": {},
   "outputs": [
    {
     "data": {
      "image/png": "[encoded data removed]",
      "text/plain": [
       "<Figure size 576x432 with 1 Axes>"
      ]
     },
     "metadata": {
      "needs_background": "light"
     },
     "output_type": "display_data"
    }
   ],
   "source": [
    "plt.rcParams[\"figure.figsize\"] = (8,6)\n",
    "ax = sns.countplot(x=\"medal\", data=data)"
   ]
  },
  {
   "cell_type": "code",
   "execution_count": 71,
   "id": "7d406c50",
   "metadata": {},
   "outputs": [],
   "source": [
    "cols1 = ['type', 'gender', 'athlete']\n",
    "cols2 = ['type', 'medal', 'athlete']"
   ]
  },
  {
   "cell_type": "code",
   "execution_count": 69,
   "id": "883d2415",
   "metadata": {},
   "outputs": [],
   "source": [
    "def getFigureAtPos(**kwargs):\n",
    "    data = kwargs[\"data\"]\n",
    "    plotFunc = kwargs[\"plotFunc\"]\n",
    "    i = kwargs[\"i\"]\n",
    "    j = kwargs[\"j\"]\n",
    "    title = kwargs[\"title\"]\n",
    "    try:\n",
    "        cols = kwargs[\"cols\"]\n",
    "        plotFunc(data[cols[i]],hue=data[cols[j]]).set(ylabel=None,xlabel=None,title=title)\n",
    "    except:\n",
    "        try:\n",
    "            cols1 = kwargs[\"cols1\"]\n",
    "            cols2 = kwargs[\"cols2\"]\n",
    "            plotFunc(x=data[cols1[i]],y=data[cols2[j]]).set(title=title)\n",
    "        except:    \n",
    "            pass"
   ]
  },
  {
   "cell_type": "code",
   "execution_count": 72,
   "id": "8ca8d818",
   "metadata": {},
   "outputs": [
    {
     "name": "stderr",
     "output_type": "stream",
     "text": [
      "C:\\Users\\Ho Xuan Vinh\\anaconda3\\lib\\site-packages\\seaborn\\_decorators.py:36: FutureWarning: Pass the following variable as a keyword arg: x. From version 0.12, the only valid positional argument will be `data`, and passing other arguments without an explicit keyword will result in an error or misinterpretation.\n",
      "  warnings.warn(\n"
     ]
    },
    {
     "data": {
      "image/png": "[encoded data removed]",
      "text/plain": [
       "<Figure size 1080x576 with 1 Axes>"
      ]
     },
     "metadata": {
      "needs_background": "light"
     },
     "output_type": "display_data"
    }
   ],
   "source": [
    "getFigureAtPos(**{\n",
    "    'plotFunc':sns.countplot,\n",
    "    'data':data,\n",
    "    'cols':cols1,\n",
    "    'j':0,\n",
    "    'i':1,\n",
    "    'title':''})"
   ]
  },
  {
   "cell_type": "code",
   "execution_count": 73,
   "id": "da8f191d",
   "metadata": {},
   "outputs": [
    {
     "name": "stderr",
     "output_type": "stream",
     "text": [
      "C:\\Users\\Ho Xuan Vinh\\anaconda3\\lib\\site-packages\\seaborn\\_decorators.py:36: FutureWarning: Pass the following variable as a keyword arg: x. From version 0.12, the only valid positional argument will be `data`, and passing other arguments without an explicit keyword will result in an error or misinterpretation.\n",
      "  warnings.warn(\n"
     ]
    },
    {
     "data": {
      "image/png": "[encoded data removed]",
      "text/plain": [
       "<Figure size 1080x576 with 1 Axes>"
      ]
     },
     "metadata": {
      "needs_background": "light"
     },
     "output_type": "display_data"
    }
   ],
   "source": [
    "getFigureAtPos(**{\n",
    "    'plotFunc':sns.countplot,\n",
    "    'data':data,\n",
    "    'cols':cols2,\n",
    "    'j':0,\n",
    "    'i':1,\n",
    "    'title':''})"
   ]
  },
  {
   "cell_type": "code",
   "execution_count": 77,
   "id": "eff20ac8",
   "metadata": {},
   "outputs": [
    {
     "name": "stdout",
     "output_type": "stream",
     "text": [
      "[1980 1984 1988 1992 1996 2000 2004 2008 2012 2016]\n"
     ]
    }
   ],
   "source": [
    "data_year = data['year'].unique()\n",
    "print(data_year)"
   ]
  },
  {
   "cell_type": "code",
   "execution_count": 78,
   "id": "81290c29",
   "metadata": {
    "scrolled": false
   },
   "outputs": [
    {
     "name": "stderr",
     "output_type": "stream",
     "text": [
      "C:\\Users\\Ho Xuan Vinh\\anaconda3\\lib\\site-packages\\seaborn\\_decorators.py:36: FutureWarning: Pass the following variable as a keyword arg: x. From version 0.12, the only valid positional argument will be `data`, and passing other arguments without an explicit keyword will result in an error or misinterpretation.\n",
      "  warnings.warn(\n"
     ]
    },
    {
     "data": {
      "image/png": "[encoded data removed]",
      "text/plain": [
       "<Figure size 1080x576 with 1 Axes>"
      ]
     },
     "metadata": {
      "needs_background": "light"
     },
     "output_type": "display_data"
    }
   ],
   "source": [
    "cols3 = ['year', 'medal', 'athlete']\n",
    "getFigureAtPos(**{\n",
    "    'plotFunc':sns.countplot,\n",
    "    'data':data,\n",
    "    'cols':cols3,\n",
    "    'j':0,\n",
    "    'i':1,\n",
    "    'title':''})    "
   ]
  },
  {
   "cell_type": "code",
   "execution_count": 82,
   "id": "39aefc1a",
   "metadata": {
    "scrolled": false
   },
   "outputs": [
    {
     "name": "stderr",
     "output_type": "stream",
     "text": [
      "C:\\Users\\Ho Xuan Vinh\\anaconda3\\lib\\site-packages\\seaborn\\_decorators.py:36: FutureWarning: Pass the following variable as a keyword arg: x. From version 0.12, the only valid positional argument will be `data`, and passing other arguments without an explicit keyword will result in an error or misinterpretation.\n",
      "  warnings.warn(\n"
     ]
    },
    {
     "data": {
      "image/png": "[encoded data removed]",
      "text/plain": [
       "<Figure size 1080x576 with 1 Axes>"
      ]
     },
     "metadata": {
      "needs_background": "light"
     },
     "output_type": "display_data"
    }
   ],
   "source": [
    "cols4 = ['medal', 'year']\n",
    "getFigureAtPos(**{\n",
    "    'plotFunc':sns.countplot,\n",
    "    'data':data,\n",
    "    'cols':cols4,\n",
    "    'j':0,\n",
    "    'i':1,\n",
    "    'title':''})  "
   ]
  },
  {
   "cell_type": "code",
   "execution_count": null,
   "id": "d615ff07",
   "metadata": {},
   "outputs": [],
   "source": []
  },
  {
   "cell_type": "code",
   "execution_count": null,
   "id": "6e59b2cd",
   "metadata": {},
   "outputs": [],
   "source": []
  },
  {
   "cell_type": "code",
   "execution_count": null,
   "id": "1290f20a",
   "metadata": {},
   "outputs": [],
   "source": []
  },
  {
   "cell_type": "code",
   "execution_count": null,
   "id": "ff276f5f",
   "metadata": {},
   "outputs": [],
   "source": []
  }
 ],
 "metadata": {
  "kernelspec": {
   "display_name": "Python 3 (ipykernel)",
   "language": "python",
   "name": "python3"
  },
  "language_info": {
   "codemirror_mode": {
    "name": "ipython",
    "version": 3
   },
   "file_extension": ".py",
   "mimetype": "text/x-python",
   "name": "python",
   "nbconvert_exporter": "python",
   "pygments_lexer": "ipython3",
   "version": "3.9.7"
  }
 },
 "nbformat": 4,
 "nbformat_minor": 5
}
