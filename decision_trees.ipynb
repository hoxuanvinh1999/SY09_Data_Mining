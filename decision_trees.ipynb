{
 "cells": [
  {
   "cell_type": "code",
   "execution_count": 1,
   "id": "13a0860a",
   "metadata": {},
   "outputs": [],
   "source": [
    "import pandas as pd\n",
    "import matplotlib.pyplot as plt\n",
    "import numpy as np\n",
    "import seaborn as sns\n",
    "from sklearn import tree\n",
    "from sklearn.tree import export_text\n",
    "import graphviz\n",
    "from sklearn.model_selection import train_test_split\n",
    "from sklearn.tree import DecisionTreeClassifier\n",
    "from sklearn.metrics import accuracy_score,classification_report,confusion_matrix"
   ]
  },
  {
   "cell_type": "code",
   "execution_count": 2,
   "id": "29926e4d",
   "metadata": {},
   "outputs": [
    {
     "data": {
      "text/html": [
       "<div>\n",
       "<style scoped>\n",
       "    .dataframe tbody tr th:only-of-type {\n",
       "        vertical-align: middle;\n",
       "    }\n",
       "\n",
       "    .dataframe tbody tr th {\n",
       "        vertical-align: top;\n",
       "    }\n",
       "\n",
       "    .dataframe thead th {\n",
       "        text-align: right;\n",
       "    }\n",
       "</style>\n",
       "<table border=\"1\" class=\"dataframe\">\n",
       "  <thead>\n",
       "    <tr style=\"text-align: right;\">\n",
       "      <th></th>\n",
       "      <th>country</th>\n",
       "      <th>gold</th>\n",
       "      <th>silver</th>\n",
       "      <th>bronze</th>\n",
       "      <th>total</th>\n",
       "      <th>longitude</th>\n",
       "      <th>latitude</th>\n",
       "      <th>class</th>\n",
       "    </tr>\n",
       "  </thead>\n",
       "  <tbody>\n",
       "    <tr>\n",
       "      <th>0</th>\n",
       "      <td>FR Germany</td>\n",
       "      <td>289</td>\n",
       "      <td>218</td>\n",
       "      <td>198</td>\n",
       "      <td>1501</td>\n",
       "      <td>10.451526</td>\n",
       "      <td>51.165691</td>\n",
       "      <td>1</td>\n",
       "    </tr>\n",
       "    <tr>\n",
       "      <th>1</th>\n",
       "      <td>Sweden</td>\n",
       "      <td>190</td>\n",
       "      <td>205</td>\n",
       "      <td>143</td>\n",
       "      <td>1123</td>\n",
       "      <td>18.643501</td>\n",
       "      <td>60.128161</td>\n",
       "      <td>1</td>\n",
       "    </tr>\n",
       "    <tr>\n",
       "      <th>2</th>\n",
       "      <td>Belgium</td>\n",
       "      <td>79</td>\n",
       "      <td>73</td>\n",
       "      <td>70</td>\n",
       "      <td>453</td>\n",
       "      <td>4.469936</td>\n",
       "      <td>50.503887</td>\n",
       "      <td>1</td>\n",
       "    </tr>\n",
       "    <tr>\n",
       "      <th>3</th>\n",
       "      <td>Great Britain</td>\n",
       "      <td>439</td>\n",
       "      <td>502</td>\n",
       "      <td>483</td>\n",
       "      <td>2804</td>\n",
       "      <td>-3.435973</td>\n",
       "      <td>55.378051</td>\n",
       "      <td>1</td>\n",
       "    </tr>\n",
       "    <tr>\n",
       "      <th>4</th>\n",
       "      <td>Netherlands</td>\n",
       "      <td>189</td>\n",
       "      <td>239</td>\n",
       "      <td>237</td>\n",
       "      <td>1282</td>\n",
       "      <td>5.291266</td>\n",
       "      <td>52.132633</td>\n",
       "      <td>1</td>\n",
       "    </tr>\n",
       "    <tr>\n",
       "      <th>...</th>\n",
       "      <td>...</td>\n",
       "      <td>...</td>\n",
       "      <td>...</td>\n",
       "      <td>...</td>\n",
       "      <td>...</td>\n",
       "      <td>...</td>\n",
       "      <td>...</td>\n",
       "      <td>...</td>\n",
       "    </tr>\n",
       "    <tr>\n",
       "      <th>110</th>\n",
       "      <td>Syria</td>\n",
       "      <td>0</td>\n",
       "      <td>0</td>\n",
       "      <td>1</td>\n",
       "      <td>1</td>\n",
       "      <td>38.996815</td>\n",
       "      <td>34.802075</td>\n",
       "      <td>4</td>\n",
       "    </tr>\n",
       "    <tr>\n",
       "      <th>111</th>\n",
       "      <td>Kazakhstan</td>\n",
       "      <td>1</td>\n",
       "      <td>1</td>\n",
       "      <td>0</td>\n",
       "      <td>5</td>\n",
       "      <td>66.923684</td>\n",
       "      <td>48.019573</td>\n",
       "      <td>4</td>\n",
       "    </tr>\n",
       "    <tr>\n",
       "      <th>112</th>\n",
       "      <td>Faroe Islands</td>\n",
       "      <td>1</td>\n",
       "      <td>7</td>\n",
       "      <td>5</td>\n",
       "      <td>22</td>\n",
       "      <td>-6.911806</td>\n",
       "      <td>61.892635</td>\n",
       "      <td>4</td>\n",
       "    </tr>\n",
       "    <tr>\n",
       "      <th>113</th>\n",
       "      <td>Peru</td>\n",
       "      <td>2</td>\n",
       "      <td>1</td>\n",
       "      <td>2</td>\n",
       "      <td>10</td>\n",
       "      <td>-75.015152</td>\n",
       "      <td>-9.189967</td>\n",
       "      <td>4</td>\n",
       "    </tr>\n",
       "    <tr>\n",
       "      <th>114</th>\n",
       "      <td>Singapore</td>\n",
       "      <td>3</td>\n",
       "      <td>1</td>\n",
       "      <td>1</td>\n",
       "      <td>12</td>\n",
       "      <td>103.819836</td>\n",
       "      <td>1.352083</td>\n",
       "      <td>4</td>\n",
       "    </tr>\n",
       "  </tbody>\n",
       "</table>\n",
       "<p>115 rows × 8 columns</p>\n",
       "</div>"
      ],
      "text/plain": [
       "           country  gold  silver  bronze  total   longitude   latitude  class\n",
       "0       FR Germany   289     218     198   1501   10.451526  51.165691      1\n",
       "1           Sweden   190     205     143   1123   18.643501  60.128161      1\n",
       "2          Belgium    79      73      70    453    4.469936  50.503887      1\n",
       "3    Great Britain   439     502     483   2804   -3.435973  55.378051      1\n",
       "4      Netherlands   189     239     237   1282    5.291266  52.132633      1\n",
       "..             ...   ...     ...     ...    ...         ...        ...    ...\n",
       "110          Syria     0       0       1      1   38.996815  34.802075      4\n",
       "111     Kazakhstan     1       1       0      5   66.923684  48.019573      4\n",
       "112  Faroe Islands     1       7       5     22   -6.911806  61.892635      4\n",
       "113           Peru     2       1       2     10  -75.015152  -9.189967      4\n",
       "114      Singapore     3       1       1     12  103.819836   1.352083      4\n",
       "\n",
       "[115 rows x 8 columns]"
      ]
     },
     "execution_count": 2,
     "metadata": {},
     "output_type": "execute_result"
    }
   ],
   "source": [
    "medal_by_country = pd.read_csv('data/medal_by_country_coor.csv')\n",
    "medal_by_country"
   ]
  },
  {
   "cell_type": "code",
   "execution_count": 3,
   "id": "9d43e1da",
   "metadata": {},
   "outputs": [],
   "source": [
    "y_gold = []\n",
    "y_silver = []\n",
    "y_bronze = []\n",
    "for gold,silver,bronze in zip(medal_by_country[\"gold\"],medal_by_country[\"silver\"],medal_by_country[\"bronze\"]):\n",
    "    if gold > 0:\n",
    "        y_gold.append(1)\n",
    "    else:\n",
    "        y_gold.append(0)\n",
    "    if silver > 0:\n",
    "        y_silver.append(1)\n",
    "    else:\n",
    "        y_silver.append(0)\n",
    "    if bronze > 0:\n",
    "        y_bronze.append(1)\n",
    "    else:\n",
    "        y_bronze.append(0)"
   ]
  },
  {
   "cell_type": "code",
   "execution_count": 4,
   "id": "5150fdec",
   "metadata": {},
   "outputs": [
    {
     "data": {
      "text/html": [
       "<div>\n",
       "<style scoped>\n",
       "    .dataframe tbody tr th:only-of-type {\n",
       "        vertical-align: middle;\n",
       "    }\n",
       "\n",
       "    .dataframe tbody tr th {\n",
       "        vertical-align: top;\n",
       "    }\n",
       "\n",
       "    .dataframe thead th {\n",
       "        text-align: right;\n",
       "    }\n",
       "</style>\n",
       "<table border=\"1\" class=\"dataframe\">\n",
       "  <thead>\n",
       "    <tr style=\"text-align: right;\">\n",
       "      <th></th>\n",
       "      <th>class</th>\n",
       "      <th>gold</th>\n",
       "      <th>silver</th>\n",
       "      <th>bronze</th>\n",
       "    </tr>\n",
       "  </thead>\n",
       "  <tbody>\n",
       "    <tr>\n",
       "      <th>0</th>\n",
       "      <td>1</td>\n",
       "      <td>289</td>\n",
       "      <td>218</td>\n",
       "      <td>198</td>\n",
       "    </tr>\n",
       "    <tr>\n",
       "      <th>1</th>\n",
       "      <td>1</td>\n",
       "      <td>190</td>\n",
       "      <td>205</td>\n",
       "      <td>143</td>\n",
       "    </tr>\n",
       "    <tr>\n",
       "      <th>2</th>\n",
       "      <td>1</td>\n",
       "      <td>79</td>\n",
       "      <td>73</td>\n",
       "      <td>70</td>\n",
       "    </tr>\n",
       "    <tr>\n",
       "      <th>3</th>\n",
       "      <td>1</td>\n",
       "      <td>439</td>\n",
       "      <td>502</td>\n",
       "      <td>483</td>\n",
       "    </tr>\n",
       "    <tr>\n",
       "      <th>4</th>\n",
       "      <td>1</td>\n",
       "      <td>189</td>\n",
       "      <td>239</td>\n",
       "      <td>237</td>\n",
       "    </tr>\n",
       "    <tr>\n",
       "      <th>...</th>\n",
       "      <td>...</td>\n",
       "      <td>...</td>\n",
       "      <td>...</td>\n",
       "      <td>...</td>\n",
       "    </tr>\n",
       "    <tr>\n",
       "      <th>110</th>\n",
       "      <td>4</td>\n",
       "      <td>0</td>\n",
       "      <td>0</td>\n",
       "      <td>1</td>\n",
       "    </tr>\n",
       "    <tr>\n",
       "      <th>111</th>\n",
       "      <td>4</td>\n",
       "      <td>1</td>\n",
       "      <td>1</td>\n",
       "      <td>0</td>\n",
       "    </tr>\n",
       "    <tr>\n",
       "      <th>112</th>\n",
       "      <td>4</td>\n",
       "      <td>1</td>\n",
       "      <td>7</td>\n",
       "      <td>5</td>\n",
       "    </tr>\n",
       "    <tr>\n",
       "      <th>113</th>\n",
       "      <td>4</td>\n",
       "      <td>2</td>\n",
       "      <td>1</td>\n",
       "      <td>2</td>\n",
       "    </tr>\n",
       "    <tr>\n",
       "      <th>114</th>\n",
       "      <td>4</td>\n",
       "      <td>3</td>\n",
       "      <td>1</td>\n",
       "      <td>1</td>\n",
       "    </tr>\n",
       "  </tbody>\n",
       "</table>\n",
       "<p>115 rows × 4 columns</p>\n",
       "</div>"
      ],
      "text/plain": [
       "     class  gold  silver  bronze\n",
       "0        1   289     218     198\n",
       "1        1   190     205     143\n",
       "2        1    79      73      70\n",
       "3        1   439     502     483\n",
       "4        1   189     239     237\n",
       "..     ...   ...     ...     ...\n",
       "110      4     0       0       1\n",
       "111      4     1       1       0\n",
       "112      4     1       7       5\n",
       "113      4     2       1       2\n",
       "114      4     3       1       1\n",
       "\n",
       "[115 rows x 4 columns]"
      ]
     },
     "execution_count": 4,
     "metadata": {},
     "output_type": "execute_result"
    }
   ],
   "source": [
    "data_changed = pd.DataFrame()\n",
    "data_changed[\"class\"] = medal_by_country[\"class\"]\n",
    "data_changed[\"gold\"] = medal_by_country[\"gold\"]\n",
    "data_changed[\"silver\"] = medal_by_country[\"silver\"]\n",
    "data_changed[\"bronze\"] = medal_by_country[\"bronze\"]\n",
    "data_changed"
   ]
  },
  {
   "cell_type": "code",
   "execution_count": 5,
   "id": "e0a91599",
   "metadata": {},
   "outputs": [
    {
     "name": "stdout",
     "output_type": "stream",
     "text": [
      "<class 'pandas.core.frame.DataFrame'>\n",
      "RangeIndex: 115 entries, 0 to 114\n",
      "Data columns (total 4 columns):\n",
      " #   Column  Non-Null Count  Dtype \n",
      "---  ------  --------------  ----- \n",
      " 0   class   115 non-null    object\n",
      " 1   gold    115 non-null    int64 \n",
      " 2   silver  115 non-null    int64 \n",
      " 3   bronze  115 non-null    int64 \n",
      "dtypes: int64(3), object(1)\n",
      "memory usage: 3.7+ KB\n"
     ]
    }
   ],
   "source": [
    "data_changed = data_changed.astype({\"class\": str}, errors='raise') \n",
    "data_changed.info()"
   ]
  },
  {
   "cell_type": "code",
   "execution_count": 6,
   "id": "c236a153",
   "metadata": {},
   "outputs": [
    {
     "name": "stderr",
     "output_type": "stream",
     "text": [
      "C:\\ProgramData\\Anaconda3\\lib\\site-packages\\seaborn\\_decorators.py:36: FutureWarning: Pass the following variable as a keyword arg: x. From version 0.12, the only valid positional argument will be `data`, and passing other arguments without an explicit keyword will result in an error or misinterpretation.\n",
      "  warnings.warn(\n"
     ]
    },
    {
     "data": {
      "text/plain": [
       "<AxesSubplot:xlabel='class', ylabel='count'>"
      ]
     },
     "execution_count": 6,
     "metadata": {},
     "output_type": "execute_result"
    },
    {
     "data": {
      "image/png": "[encoded data removed]",
      "text/plain": [
       "<Figure size 432x288 with 1 Axes>"
      ]
     },
     "metadata": {
      "needs_background": "light"
     },
     "output_type": "display_data"
    }
   ],
   "source": [
    "sns.countplot(data_changed['class'])"
   ]
  },
  {
   "cell_type": "code",
   "execution_count": 7,
   "id": "74407662",
   "metadata": {},
   "outputs": [],
   "source": [
    "#sns.countplot(data_changed['gold'],hue=data_changed['class'])"
   ]
  },
  {
   "cell_type": "code",
   "execution_count": 8,
   "id": "7a4bd754",
   "metadata": {},
   "outputs": [],
   "source": [
    "#sns.countplot(data_changed['silver'],hue=data_changed['class'])"
   ]
  },
  {
   "cell_type": "code",
   "execution_count": 9,
   "id": "3161f26f",
   "metadata": {},
   "outputs": [],
   "source": [
    "X = data_changed.drop('class',axis=1)\n",
    "y = data_changed[['class']]\n",
    "X_train, X_test, y_train, y_test = train_test_split(X, y, test_size = 0.3,random_state=42)"
   ]
  },
  {
   "cell_type": "code",
   "execution_count": 10,
   "id": "3c3fed69",
   "metadata": {},
   "outputs": [
    {
     "data": {
      "text/html": [
       "<style>#sk-container-id-1 {color: black;background-color: white;}#sk-container-id-1 pre{padding: 0;}#sk-container-id-1 div.sk-toggleable {background-color: white;}#sk-container-id-1 label.sk-toggleable__label {cursor: pointer;display: block;width: 100%;margin-bottom: 0;padding: 0.3em;box-sizing: border-box;text-align: center;}#sk-container-id-1 label.sk-toggleable__label-arrow:before {content: \"▸\";float: left;margin-right: 0.25em;color: #696969;}#sk-container-id-1 label.sk-toggleable__label-arrow:hover:before {color: black;}#sk-container-id-1 div.sk-estimator:hover label.sk-toggleable__label-arrow:before {color: black;}#sk-container-id-1 div.sk-toggleable__content {max-height: 0;max-width: 0;overflow: hidden;text-align: left;background-color: #f0f8ff;}#sk-container-id-1 div.sk-toggleable__content pre {margin: 0.2em;color: black;border-radius: 0.25em;background-color: #f0f8ff;}#sk-container-id-1 input.sk-toggleable__control:checked~div.sk-toggleable__content {max-height: 200px;max-width: 100%;overflow: auto;}#sk-container-id-1 input.sk-toggleable__control:checked~label.sk-toggleable__label-arrow:before {content: \"▾\";}#sk-container-id-1 div.sk-estimator input.sk-toggleable__control:checked~label.sk-toggleable__label {background-color: #d4ebff;}#sk-container-id-1 div.sk-label input.sk-toggleable__control:checked~label.sk-toggleable__label {background-color: #d4ebff;}#sk-container-id-1 input.sk-hidden--visually {border: 0;clip: rect(1px 1px 1px 1px);clip: rect(1px, 1px, 1px, 1px);height: 1px;margin: -1px;overflow: hidden;padding: 0;position: absolute;width: 1px;}#sk-container-id-1 div.sk-estimator {font-family: monospace;background-color: #f0f8ff;border: 1px dotted black;border-radius: 0.25em;box-sizing: border-box;margin-bottom: 0.5em;}#sk-container-id-1 div.sk-estimator:hover {background-color: #d4ebff;}#sk-container-id-1 div.sk-parallel-item::after {content: \"\";width: 100%;border-bottom: 1px solid gray;flex-grow: 1;}#sk-container-id-1 div.sk-label:hover label.sk-toggleable__label {background-color: #d4ebff;}#sk-container-id-1 div.sk-serial::before {content: \"\";position: absolute;border-left: 1px solid gray;box-sizing: border-box;top: 0;bottom: 0;left: 50%;z-index: 0;}#sk-container-id-1 div.sk-serial {display: flex;flex-direction: column;align-items: center;background-color: white;padding-right: 0.2em;padding-left: 0.2em;position: relative;}#sk-container-id-1 div.sk-item {position: relative;z-index: 1;}#sk-container-id-1 div.sk-parallel {display: flex;align-items: stretch;justify-content: center;background-color: white;position: relative;}#sk-container-id-1 div.sk-item::before, #sk-container-id-1 div.sk-parallel-item::before {content: \"\";position: absolute;border-left: 1px solid gray;box-sizing: border-box;top: 0;bottom: 0;left: 50%;z-index: -1;}#sk-container-id-1 div.sk-parallel-item {display: flex;flex-direction: column;z-index: 1;position: relative;background-color: white;}#sk-container-id-1 div.sk-parallel-item:first-child::after {align-self: flex-end;width: 50%;}#sk-container-id-1 div.sk-parallel-item:last-child::after {align-self: flex-start;width: 50%;}#sk-container-id-1 div.sk-parallel-item:only-child::after {width: 0;}#sk-container-id-1 div.sk-dashed-wrapped {border: 1px dashed gray;margin: 0 0.4em 0.5em 0.4em;box-sizing: border-box;padding-bottom: 0.4em;background-color: white;}#sk-container-id-1 div.sk-label label {font-family: monospace;font-weight: bold;display: inline-block;line-height: 1.2em;}#sk-container-id-1 div.sk-label-container {text-align: center;}#sk-container-id-1 div.sk-container {/* jupyter's `normalize.less` sets `[hidden] { display: none; }` but bootstrap.min.css set `[hidden] { display: none !important; }` so we also need the `!important` here to be able to override the default hidden behavior on the sphinx rendered scikit-learn.org. See: https://github.com/scikit-learn/scikit-learn/issues/21755 */display: inline-block !important;position: relative;}#sk-container-id-1 div.sk-text-repr-fallback {display: none;}</style><div id=\"sk-container-id-1\" class=\"sk-top-container\"><div class=\"sk-text-repr-fallback\"><pre>DecisionTreeClassifier(max_depth=3, min_samples_leaf=5, random_state=42)</pre><b>In a Jupyter environment, please rerun this cell to show the HTML representation or trust the notebook. <br />On GitHub, the HTML representation is unable to render, please try loading this page with nbviewer.org.</b></div><div class=\"sk-container\" hidden><div class=\"sk-item\"><div class=\"sk-estimator sk-toggleable\"><input class=\"sk-toggleable__control sk-hidden--visually\" id=\"sk-estimator-id-1\" type=\"checkbox\" checked><label for=\"sk-estimator-id-1\" class=\"sk-toggleable__label sk-toggleable__label-arrow\">DecisionTreeClassifier</label><div class=\"sk-toggleable__content\"><pre>DecisionTreeClassifier(max_depth=3, min_samples_leaf=5, random_state=42)</pre></div></div></div></div></div>"
      ],
      "text/plain": [
       "DecisionTreeClassifier(max_depth=3, min_samples_leaf=5, random_state=42)"
      ]
     },
     "execution_count": 10,
     "metadata": {},
     "output_type": "execute_result"
    }
   ],
   "source": [
    "clf_model = DecisionTreeClassifier(criterion=\"gini\", random_state=42,max_depth=3, min_samples_leaf=5)   \n",
    "clf_model.fit(X_train,y_train)"
   ]
  },
  {
   "cell_type": "code",
   "execution_count": 11,
   "id": "f171bb03",
   "metadata": {},
   "outputs": [
    {
     "data": {
      "text/plain": [
       "0.5428571428571428"
      ]
     },
     "execution_count": 11,
     "metadata": {},
     "output_type": "execute_result"
    }
   ],
   "source": [
    "y_predict = clf_model.predict(X_test)\n",
    "accuracy_score(y_test,y_predict)"
   ]
  },
  {
   "cell_type": "code",
   "execution_count": 12,
   "id": "bf2d59f2",
   "metadata": {},
   "outputs": [],
   "source": [
    "target = list(data_changed['class'].unique())\n",
    "feature_names = list(X.columns)"
   ]
  },
  {
   "cell_type": "code",
   "execution_count": 13,
   "id": "0531cc43",
   "metadata": {},
   "outputs": [
    {
     "data": {
      "image/svg+xml": [
       "<?xml version=\"1.0\" encoding=\"UTF-8\" standalone=\"no\"?>\r\n",
       "<!DOCTYPE svg PUBLIC \"-//W3C//DTD SVG 1.1//EN\"\r\n",
       " \"http://www.w3.org/Graphics/SVG/1.1/DTD/svg11.dtd\">\r\n",
       "<!-- Generated by graphviz version 2.38.0 (20140413.2041)\r\n",
       " -->\r\n",
       "<!-- Title: Tree Pages: 1 -->\r\n",
       "<svg width=\"895pt\" height=\"433pt\"\r\n",
       " viewBox=\"0.00 0.00 895.00 433.00\" xmlns=\"http://www.w3.org/2000/svg\" xmlns:xlink=\"http://www.w3.org/1999/xlink\">\r\n",
       "<g id=\"graph0\" class=\"graph\" transform=\"scale(1 1) rotate(0) translate(4 429)\">\r\n",
       "<title>Tree</title>\r\n",
       "<polygon fill=\"white\" stroke=\"none\" points=\"-4,4 -4,-429 891,-429 891,4 -4,4\"/>\r\n",
       "<!-- 0 -->\r\n",
       "<g id=\"node1\" class=\"node\"><title>0</title>\r\n",
       "<path fill=\"#fcfffc\" stroke=\"black\" d=\"M624,-425C624,-425 487,-425 487,-425 481,-425 475,-419 475,-413 475,-413 475,-354 475,-354 475,-348 481,-342 487,-342 487,-342 624,-342 624,-342 630,-342 636,-348 636,-354 636,-354 636,-413 636,-413 636,-419 630,-425 624,-425\"/>\r\n",
       "<text text-anchor=\"start\" x=\"519.5\" y=\"-409.8\" font-family=\"Helvetica,sans-Serif\" font-size=\"14.00\">gold ≤ 24.5</text>\r\n",
       "<text text-anchor=\"start\" x=\"518\" y=\"-394.8\" font-family=\"Helvetica,sans-Serif\" font-size=\"14.00\">gini = 0.748</text>\r\n",
       "<text text-anchor=\"start\" x=\"512\" y=\"-379.8\" font-family=\"Helvetica,sans-Serif\" font-size=\"14.00\">samples = 80</text>\r\n",
       "<text text-anchor=\"start\" x=\"483\" y=\"-364.8\" font-family=\"Helvetica,sans-Serif\" font-size=\"14.00\">value = [20, 22, 21, 17]</text>\r\n",
       "<text text-anchor=\"start\" x=\"526.5\" y=\"-349.8\" font-family=\"Helvetica,sans-Serif\" font-size=\"14.00\">class = 2</text>\r\n",
       "</g>\r\n",
       "<!-- 1 -->\r\n",
       "<g id=\"node2\" class=\"node\"><title>1</title>\r\n",
       "<path fill=\"#e9f4fc\" stroke=\"black\" d=\"M508,-306C508,-306 379,-306 379,-306 373,-306 367,-300 367,-294 367,-294 367,-235 367,-235 367,-229 373,-223 379,-223 379,-223 508,-223 508,-223 514,-223 520,-229 520,-235 520,-235 520,-294 520,-294 520,-300 514,-306 508,-306\"/>\r\n",
       "<text text-anchor=\"start\" x=\"409\" y=\"-290.8\" font-family=\"Helvetica,sans-Serif\" font-size=\"14.00\">silver ≤ 3.5</text>\r\n",
       "<text text-anchor=\"start\" x=\"410\" y=\"-275.8\" font-family=\"Helvetica,sans-Serif\" font-size=\"14.00\">gini = 0.67</text>\r\n",
       "<text text-anchor=\"start\" x=\"400\" y=\"-260.8\" font-family=\"Helvetica,sans-Serif\" font-size=\"14.00\">samples = 53</text>\r\n",
       "<text text-anchor=\"start\" x=\"375\" y=\"-245.8\" font-family=\"Helvetica,sans-Serif\" font-size=\"14.00\">value = [1, 14, 21, 17]</text>\r\n",
       "<text text-anchor=\"start\" x=\"414.5\" y=\"-230.8\" font-family=\"Helvetica,sans-Serif\" font-size=\"14.00\">class = 3</text>\r\n",
       "</g>\r\n",
       "<!-- 0&#45;&gt;1 -->\r\n",
       "<g id=\"edge1\" class=\"edge\"><title>0&#45;&gt;1</title>\r\n",
       "<path fill=\"none\" stroke=\"black\" d=\"M516.642,-341.907C507.868,-332.742 498.472,-322.927 489.438,-313.489\"/>\r\n",
       "<polygon fill=\"black\" stroke=\"black\" points=\"491.733,-310.824 482.289,-306.021 486.676,-315.665 491.733,-310.824\"/>\r\n",
       "<text text-anchor=\"middle\" x=\"481.743\" y=\"-327.315\" font-family=\"Helvetica,sans-Serif\" font-size=\"14.00\">True</text>\r\n",
       "</g>\r\n",
       "<!-- 8 -->\r\n",
       "<g id=\"node9\" class=\"node\"><title>8</title>\r\n",
       "<path fill=\"#f0b68c\" stroke=\"black\" d=\"M724,-306C724,-306 611,-306 611,-306 605,-306 599,-300 599,-294 599,-294 599,-235 599,-235 599,-229 605,-223 611,-223 611,-223 724,-223 724,-223 730,-223 736,-229 736,-235 736,-235 736,-294 736,-294 736,-300 730,-306 724,-306\"/>\r\n",
       "<text text-anchor=\"start\" x=\"631.5\" y=\"-290.8\" font-family=\"Helvetica,sans-Serif\" font-size=\"14.00\">gold ≤ 81.5</text>\r\n",
       "<text text-anchor=\"start\" x=\"630\" y=\"-275.8\" font-family=\"Helvetica,sans-Serif\" font-size=\"14.00\">gini = 0.417</text>\r\n",
       "<text text-anchor=\"start\" x=\"624\" y=\"-260.8\" font-family=\"Helvetica,sans-Serif\" font-size=\"14.00\">samples = 27</text>\r\n",
       "<text text-anchor=\"start\" x=\"607\" y=\"-245.8\" font-family=\"Helvetica,sans-Serif\" font-size=\"14.00\">value = [19, 8, 0, 0]</text>\r\n",
       "<text text-anchor=\"start\" x=\"638.5\" y=\"-230.8\" font-family=\"Helvetica,sans-Serif\" font-size=\"14.00\">class = 1</text>\r\n",
       "</g>\r\n",
       "<!-- 0&#45;&gt;8 -->\r\n",
       "<g id=\"edge8\" class=\"edge\"><title>0&#45;&gt;8</title>\r\n",
       "<path fill=\"none\" stroke=\"black\" d=\"M594.358,-341.907C603.132,-332.742 612.528,-322.927 621.562,-313.489\"/>\r\n",
       "<polygon fill=\"black\" stroke=\"black\" points=\"624.324,-315.665 628.711,-306.021 619.267,-310.824 624.324,-315.665\"/>\r\n",
       "<text text-anchor=\"middle\" x=\"629.257\" y=\"-327.315\" font-family=\"Helvetica,sans-Serif\" font-size=\"14.00\">False</text>\r\n",
       "</g>\r\n",
       "<!-- 2 -->\r\n",
       "<g id=\"node3\" class=\"node\"><title>2</title>\r\n",
       "<path fill=\"#f3c5f7\" stroke=\"black\" d=\"M280,-187C280,-187 159,-187 159,-187 153,-187 147,-181 147,-175 147,-175 147,-116 147,-116 147,-110 153,-104 159,-104 159,-104 280,-104 280,-104 286,-104 292,-110 292,-116 292,-116 292,-175 292,-175 292,-181 286,-187 280,-187\"/>\r\n",
       "<text text-anchor=\"start\" x=\"180\" y=\"-171.8\" font-family=\"Helvetica,sans-Serif\" font-size=\"14.00\">bronze ≤ 1.5</text>\r\n",
       "<text text-anchor=\"start\" x=\"182\" y=\"-156.8\" font-family=\"Helvetica,sans-Serif\" font-size=\"14.00\">gini = 0.549</text>\r\n",
       "<text text-anchor=\"start\" x=\"176\" y=\"-141.8\" font-family=\"Helvetica,sans-Serif\" font-size=\"14.00\">samples = 27</text>\r\n",
       "<text text-anchor=\"start\" x=\"155\" y=\"-126.8\" font-family=\"Helvetica,sans-Serif\" font-size=\"14.00\">value = [0, 2, 10, 15]</text>\r\n",
       "<text text-anchor=\"start\" x=\"190.5\" y=\"-111.8\" font-family=\"Helvetica,sans-Serif\" font-size=\"14.00\">class = 4</text>\r\n",
       "</g>\r\n",
       "<!-- 1&#45;&gt;2 -->\r\n",
       "<g id=\"edge2\" class=\"edge\"><title>1&#45;&gt;2</title>\r\n",
       "<path fill=\"none\" stroke=\"black\" d=\"M366.725,-223.399C345.559,-212.343 322.525,-200.312 301.097,-189.12\"/>\r\n",
       "<polygon fill=\"black\" stroke=\"black\" points=\"302.506,-185.907 292.022,-184.38 299.265,-192.112 302.506,-185.907\"/>\r\n",
       "</g>\r\n",
       "<!-- 5 -->\r\n",
       "<g id=\"node6\" class=\"node\"><title>5</title>\r\n",
       "<path fill=\"#f3fdf2\" stroke=\"black\" d=\"M504,-187C504,-187 383,-187 383,-187 377,-187 371,-181 371,-175 371,-175 371,-116 371,-116 371,-110 377,-104 383,-104 383,-104 504,-104 504,-104 510,-104 516,-110 516,-116 516,-116 516,-175 516,-175 516,-181 510,-187 504,-187\"/>\r\n",
       "<text text-anchor=\"start\" x=\"409\" y=\"-171.8\" font-family=\"Helvetica,sans-Serif\" font-size=\"14.00\">silver ≤ 6.5</text>\r\n",
       "<text text-anchor=\"start\" x=\"406\" y=\"-156.8\" font-family=\"Helvetica,sans-Serif\" font-size=\"14.00\">gini = 0.601</text>\r\n",
       "<text text-anchor=\"start\" x=\"400\" y=\"-141.8\" font-family=\"Helvetica,sans-Serif\" font-size=\"14.00\">samples = 26</text>\r\n",
       "<text text-anchor=\"start\" x=\"379\" y=\"-126.8\" font-family=\"Helvetica,sans-Serif\" font-size=\"14.00\">value = [1, 12, 11, 2]</text>\r\n",
       "<text text-anchor=\"start\" x=\"414.5\" y=\"-111.8\" font-family=\"Helvetica,sans-Serif\" font-size=\"14.00\">class = 2</text>\r\n",
       "</g>\r\n",
       "<!-- 1&#45;&gt;5 -->\r\n",
       "<g id=\"edge5\" class=\"edge\"><title>1&#45;&gt;5</title>\r\n",
       "<path fill=\"none\" stroke=\"black\" d=\"M443.5,-222.907C443.5,-214.649 443.5,-205.864 443.5,-197.302\"/>\r\n",
       "<polygon fill=\"black\" stroke=\"black\" points=\"447,-197.021 443.5,-187.021 440,-197.021 447,-197.021\"/>\r\n",
       "</g>\r\n",
       "<!-- 3 -->\r\n",
       "<g id=\"node4\" class=\"node\"><title>3</title>\r\n",
       "<path fill=\"#e88ef0\" stroke=\"black\" d=\"M125,-68C125,-68 12,-68 12,-68 6,-68 0,-62 0,-56 0,-56 0,-12 0,-12 0,-6 6,-0 12,-0 12,-0 125,-0 125,-0 131,-0 137,-6 137,-12 137,-12 137,-56 137,-56 137,-62 131,-68 125,-68\"/>\r\n",
       "<text text-anchor=\"start\" x=\"35\" y=\"-52.8\" font-family=\"Helvetica,sans-Serif\" font-size=\"14.00\">gini = 0.46</text>\r\n",
       "<text text-anchor=\"start\" x=\"25\" y=\"-37.8\" font-family=\"Helvetica,sans-Serif\" font-size=\"14.00\">samples = 19</text>\r\n",
       "<text text-anchor=\"start\" x=\"8\" y=\"-22.8\" font-family=\"Helvetica,sans-Serif\" font-size=\"14.00\">value = [0, 1, 5, 13]</text>\r\n",
       "<text text-anchor=\"start\" x=\"39.5\" y=\"-7.8\" font-family=\"Helvetica,sans-Serif\" font-size=\"14.00\">class = 4</text>\r\n",
       "</g>\r\n",
       "<!-- 2&#45;&gt;3 -->\r\n",
       "<g id=\"edge3\" class=\"edge\"><title>2&#45;&gt;3</title>\r\n",
       "<path fill=\"none\" stroke=\"black\" d=\"M163.273,-103.726C149.941,-94.0582 135.749,-83.767 122.518,-74.172\"/>\r\n",
       "<polygon fill=\"black\" stroke=\"black\" points=\"124.57,-71.3368 114.42,-68.2996 120.461,-77.0036 124.57,-71.3368\"/>\r\n",
       "</g>\r\n",
       "<!-- 4 -->\r\n",
       "<g id=\"node5\" class=\"node\"><title>4</title>\r\n",
       "<path fill=\"#9ccef2\" stroke=\"black\" d=\"M271.5,-68C271.5,-68 167.5,-68 167.5,-68 161.5,-68 155.5,-62 155.5,-56 155.5,-56 155.5,-12 155.5,-12 155.5,-6 161.5,-0 167.5,-0 167.5,-0 271.5,-0 271.5,-0 277.5,-0 283.5,-6 283.5,-12 283.5,-12 283.5,-56 283.5,-56 283.5,-62 277.5,-68 271.5,-68\"/>\r\n",
       "<text text-anchor=\"start\" x=\"182\" y=\"-52.8\" font-family=\"Helvetica,sans-Serif\" font-size=\"14.00\">gini = 0.531</text>\r\n",
       "<text text-anchor=\"start\" x=\"180\" y=\"-37.8\" font-family=\"Helvetica,sans-Serif\" font-size=\"14.00\">samples = 8</text>\r\n",
       "<text text-anchor=\"start\" x=\"163.5\" y=\"-22.8\" font-family=\"Helvetica,sans-Serif\" font-size=\"14.00\">value = [0, 1, 5, 2]</text>\r\n",
       "<text text-anchor=\"start\" x=\"190.5\" y=\"-7.8\" font-family=\"Helvetica,sans-Serif\" font-size=\"14.00\">class = 3</text>\r\n",
       "</g>\r\n",
       "<!-- 2&#45;&gt;4 -->\r\n",
       "<g id=\"edge4\" class=\"edge\"><title>2&#45;&gt;4</title>\r\n",
       "<path fill=\"none\" stroke=\"black\" d=\"M219.5,-103.726C219.5,-95.5175 219.5,-86.8595 219.5,-78.56\"/>\r\n",
       "<polygon fill=\"black\" stroke=\"black\" points=\"223,-78.2996 219.5,-68.2996 216,-78.2996 223,-78.2996\"/>\r\n",
       "</g>\r\n",
       "<!-- 6 -->\r\n",
       "<g id=\"node7\" class=\"node\"><title>6</title>\r\n",
       "<path fill=\"#6ab6ec\" stroke=\"black\" d=\"M417.5,-68C417.5,-68 313.5,-68 313.5,-68 307.5,-68 301.5,-62 301.5,-56 301.5,-56 301.5,-12 301.5,-12 301.5,-6 307.5,-0 313.5,-0 313.5,-0 417.5,-0 417.5,-0 423.5,-0 429.5,-6 429.5,-12 429.5,-12 429.5,-56 429.5,-56 429.5,-62 423.5,-68 417.5,-68\"/>\r\n",
       "<text text-anchor=\"start\" x=\"332\" y=\"-52.8\" font-family=\"Helvetica,sans-Serif\" font-size=\"14.00\">gini = 0.32</text>\r\n",
       "<text text-anchor=\"start\" x=\"326\" y=\"-37.8\" font-family=\"Helvetica,sans-Serif\" font-size=\"14.00\">samples = 5</text>\r\n",
       "<text text-anchor=\"start\" x=\"309.5\" y=\"-22.8\" font-family=\"Helvetica,sans-Serif\" font-size=\"14.00\">value = [0, 1, 4, 0]</text>\r\n",
       "<text text-anchor=\"start\" x=\"336.5\" y=\"-7.8\" font-family=\"Helvetica,sans-Serif\" font-size=\"14.00\">class = 3</text>\r\n",
       "</g>\r\n",
       "<!-- 5&#45;&gt;6 -->\r\n",
       "<g id=\"edge6\" class=\"edge\"><title>5&#45;&gt;6</title>\r\n",
       "<path fill=\"none\" stroke=\"black\" d=\"M414.456,-103.726C408.154,-94.879 401.48,-85.51 395.154,-76.6303\"/>\r\n",
       "<polygon fill=\"black\" stroke=\"black\" points=\"397.873,-74.4138 389.22,-68.2996 392.171,-78.4751 397.873,-74.4138\"/>\r\n",
       "</g>\r\n",
       "<!-- 7 -->\r\n",
       "<g id=\"node8\" class=\"node\"><title>7</title>\r\n",
       "<path fill=\"#caf8c6\" stroke=\"black\" d=\"M573,-68C573,-68 460,-68 460,-68 454,-68 448,-62 448,-56 448,-56 448,-12 448,-12 448,-6 454,-0 460,-0 460,-0 573,-0 573,-0 579,-0 585,-6 585,-12 585,-12 585,-56 585,-56 585,-62 579,-68 573,-68\"/>\r\n",
       "<text text-anchor=\"start\" x=\"479\" y=\"-52.8\" font-family=\"Helvetica,sans-Serif\" font-size=\"14.00\">gini = 0.603</text>\r\n",
       "<text text-anchor=\"start\" x=\"473\" y=\"-37.8\" font-family=\"Helvetica,sans-Serif\" font-size=\"14.00\">samples = 21</text>\r\n",
       "<text text-anchor=\"start\" x=\"456\" y=\"-22.8\" font-family=\"Helvetica,sans-Serif\" font-size=\"14.00\">value = [1, 11, 7, 2]</text>\r\n",
       "<text text-anchor=\"start\" x=\"487.5\" y=\"-7.8\" font-family=\"Helvetica,sans-Serif\" font-size=\"14.00\">class = 2</text>\r\n",
       "</g>\r\n",
       "<!-- 5&#45;&gt;7 -->\r\n",
       "<g id=\"edge7\" class=\"edge\"><title>5&#45;&gt;7</title>\r\n",
       "<path fill=\"none\" stroke=\"black\" d=\"M470.683,-103.726C476.581,-94.879 482.827,-85.51 488.746,-76.6303\"/>\r\n",
       "<polygon fill=\"black\" stroke=\"black\" points=\"491.665,-78.5616 494.3,-68.2996 485.841,-74.6787 491.665,-78.5616\"/>\r\n",
       "</g>\r\n",
       "<!-- 9 -->\r\n",
       "<g id=\"node10\" class=\"node\"><title>9</title>\r\n",
       "<path fill=\"#ffffff\" stroke=\"black\" d=\"M719.5,-187C719.5,-187 615.5,-187 615.5,-187 609.5,-187 603.5,-181 603.5,-175 603.5,-175 603.5,-116 603.5,-116 603.5,-110 609.5,-104 615.5,-104 615.5,-104 719.5,-104 719.5,-104 725.5,-104 731.5,-110 731.5,-116 731.5,-116 731.5,-175 731.5,-175 731.5,-181 725.5,-187 719.5,-187\"/>\r\n",
       "<text text-anchor=\"start\" x=\"629\" y=\"-171.8\" font-family=\"Helvetica,sans-Serif\" font-size=\"14.00\">silver ≤ 46.0</text>\r\n",
       "<text text-anchor=\"start\" x=\"638.5\" y=\"-156.8\" font-family=\"Helvetica,sans-Serif\" font-size=\"14.00\">gini = 0.5</text>\r\n",
       "<text text-anchor=\"start\" x=\"624\" y=\"-141.8\" font-family=\"Helvetica,sans-Serif\" font-size=\"14.00\">samples = 16</text>\r\n",
       "<text text-anchor=\"start\" x=\"611.5\" y=\"-126.8\" font-family=\"Helvetica,sans-Serif\" font-size=\"14.00\">value = [8, 8, 0, 0]</text>\r\n",
       "<text text-anchor=\"start\" x=\"638.5\" y=\"-111.8\" font-family=\"Helvetica,sans-Serif\" font-size=\"14.00\">class = 1</text>\r\n",
       "</g>\r\n",
       "<!-- 8&#45;&gt;9 -->\r\n",
       "<g id=\"edge9\" class=\"edge\"><title>8&#45;&gt;9</title>\r\n",
       "<path fill=\"none\" stroke=\"black\" d=\"M667.5,-222.907C667.5,-214.649 667.5,-205.864 667.5,-197.302\"/>\r\n",
       "<polygon fill=\"black\" stroke=\"black\" points=\"671,-197.021 667.5,-187.021 664,-197.021 671,-197.021\"/>\r\n",
       "</g>\r\n",
       "<!-- 12 -->\r\n",
       "<g id=\"node13\" class=\"node\"><title>12</title>\r\n",
       "<path fill=\"#e58139\" stroke=\"black\" d=\"M875,-179.5C875,-179.5 762,-179.5 762,-179.5 756,-179.5 750,-173.5 750,-167.5 750,-167.5 750,-123.5 750,-123.5 750,-117.5 756,-111.5 762,-111.5 762,-111.5 875,-111.5 875,-111.5 881,-111.5 887,-117.5 887,-123.5 887,-123.5 887,-167.5 887,-167.5 887,-173.5 881,-179.5 875,-179.5\"/>\r\n",
       "<text text-anchor=\"start\" x=\"789.5\" y=\"-164.3\" font-family=\"Helvetica,sans-Serif\" font-size=\"14.00\">gini = 0.0</text>\r\n",
       "<text text-anchor=\"start\" x=\"775\" y=\"-149.3\" font-family=\"Helvetica,sans-Serif\" font-size=\"14.00\">samples = 11</text>\r\n",
       "<text text-anchor=\"start\" x=\"758\" y=\"-134.3\" font-family=\"Helvetica,sans-Serif\" font-size=\"14.00\">value = [11, 0, 0, 0]</text>\r\n",
       "<text text-anchor=\"start\" x=\"789.5\" y=\"-119.3\" font-family=\"Helvetica,sans-Serif\" font-size=\"14.00\">class = 1</text>\r\n",
       "</g>\r\n",
       "<!-- 8&#45;&gt;12 -->\r\n",
       "<g id=\"edge12\" class=\"edge\"><title>8&#45;&gt;12</title>\r\n",
       "<path fill=\"none\" stroke=\"black\" d=\"M719.889,-222.907C735.269,-210.99 752.066,-197.976 767.367,-186.12\"/>\r\n",
       "<polygon fill=\"black\" stroke=\"black\" points=\"769.934,-188.559 775.695,-179.667 765.646,-183.025 769.934,-188.559\"/>\r\n",
       "</g>\r\n",
       "<!-- 10 -->\r\n",
       "<g id=\"node11\" class=\"node\"><title>10</title>\r\n",
       "<path fill=\"#f2c09c\" stroke=\"black\" d=\"M719.5,-68C719.5,-68 615.5,-68 615.5,-68 609.5,-68 603.5,-62 603.5,-56 603.5,-56 603.5,-12 603.5,-12 603.5,-6 609.5,-0 615.5,-0 615.5,-0 719.5,-0 719.5,-0 725.5,-0 731.5,-6 731.5,-12 731.5,-12 731.5,-56 731.5,-56 731.5,-62 725.5,-68 719.5,-68\"/>\r\n",
       "<text text-anchor=\"start\" x=\"630\" y=\"-52.8\" font-family=\"Helvetica,sans-Serif\" font-size=\"14.00\">gini = 0.444</text>\r\n",
       "<text text-anchor=\"start\" x=\"628\" y=\"-37.8\" font-family=\"Helvetica,sans-Serif\" font-size=\"14.00\">samples = 6</text>\r\n",
       "<text text-anchor=\"start\" x=\"611.5\" y=\"-22.8\" font-family=\"Helvetica,sans-Serif\" font-size=\"14.00\">value = [4, 2, 0, 0]</text>\r\n",
       "<text text-anchor=\"start\" x=\"638.5\" y=\"-7.8\" font-family=\"Helvetica,sans-Serif\" font-size=\"14.00\">class = 1</text>\r\n",
       "</g>\r\n",
       "<!-- 9&#45;&gt;10 -->\r\n",
       "<g id=\"edge10\" class=\"edge\"><title>9&#45;&gt;10</title>\r\n",
       "<path fill=\"none\" stroke=\"black\" d=\"M667.5,-103.726C667.5,-95.5175 667.5,-86.8595 667.5,-78.56\"/>\r\n",
       "<polygon fill=\"black\" stroke=\"black\" points=\"671,-78.2996 667.5,-68.2996 664,-78.2996 671,-78.2996\"/>\r\n",
       "</g>\r\n",
       "<!-- 11 -->\r\n",
       "<g id=\"node12\" class=\"node\"><title>11</title>\r\n",
       "<path fill=\"#c2f6bd\" stroke=\"black\" d=\"M865.5,-68C865.5,-68 761.5,-68 761.5,-68 755.5,-68 749.5,-62 749.5,-56 749.5,-56 749.5,-12 749.5,-12 749.5,-6 755.5,-0 761.5,-0 761.5,-0 865.5,-0 865.5,-0 871.5,-0 877.5,-6 877.5,-12 877.5,-12 877.5,-56 877.5,-56 877.5,-62 871.5,-68 865.5,-68\"/>\r\n",
       "<text text-anchor=\"start\" x=\"780\" y=\"-52.8\" font-family=\"Helvetica,sans-Serif\" font-size=\"14.00\">gini = 0.48</text>\r\n",
       "<text text-anchor=\"start\" x=\"770\" y=\"-37.8\" font-family=\"Helvetica,sans-Serif\" font-size=\"14.00\">samples = 10</text>\r\n",
       "<text text-anchor=\"start\" x=\"757.5\" y=\"-22.8\" font-family=\"Helvetica,sans-Serif\" font-size=\"14.00\">value = [4, 6, 0, 0]</text>\r\n",
       "<text text-anchor=\"start\" x=\"784.5\" y=\"-7.8\" font-family=\"Helvetica,sans-Serif\" font-size=\"14.00\">class = 2</text>\r\n",
       "</g>\r\n",
       "<!-- 9&#45;&gt;11 -->\r\n",
       "<g id=\"edge11\" class=\"edge\"><title>9&#45;&gt;11</title>\r\n",
       "<path fill=\"none\" stroke=\"black\" d=\"M721.865,-103.726C734.634,-94.1494 748.219,-83.9611 760.908,-74.4438\"/>\r\n",
       "<polygon fill=\"black\" stroke=\"black\" points=\"763.201,-77.0996 769.101,-68.2996 759.001,-71.4996 763.201,-77.0996\"/>\r\n",
       "</g>\r\n",
       "</g>\r\n",
       "</svg>\r\n"
      ],
      "text/plain": [
       "<graphviz.files.Source at 0x1dce2a0ac70>"
      ]
     },
     "execution_count": 13,
     "metadata": {},
     "output_type": "execute_result"
    }
   ],
   "source": [
    "dot_data = tree.export_graphviz(clf_model, out_file=None, feature_names=feature_names,  class_names=target,  filled=True, rounded=True,  special_characters=True)  \n",
    "graph = graphviz.Source(dot_data)  \n",
    "graph"
   ]
  },
  {
   "cell_type": "code",
   "execution_count": 14,
   "id": "4bf07665",
   "metadata": {},
   "outputs": [
    {
     "data": {
      "text/plain": [
       "'|--- gold <= 24.50\\n|   |--- silver <= 3.50\\n|   |   |--- bronze <= 1.50\\n|   |   |   |--- class: 4\\n|   |   |--- bronze >  1.50\\n|   |   |   |--- class: 3\\n|   |--- silver >  3.50\\n|   |   |--- silver <= 6.50\\n|   |   |   |--- class: 3\\n|   |   |--- silver >  6.50\\n|   |   |   |--- class: 2\\n|--- gold >  24.50\\n|   |--- gold <= 81.50\\n|   |   |--- silver <= 46.00\\n|   |   |   |--- class: 1\\n|   |   |--- silver >  46.00\\n|   |   |   |--- class: 2\\n|   |--- gold >  81.50\\n|   |   |--- class: 1\\n'"
      ]
     },
     "execution_count": 14,
     "metadata": {},
     "output_type": "execute_result"
    }
   ],
   "source": [
    "r = export_text(clf_model, feature_names=feature_names)\n",
    "r"
   ]
  },
  {
   "cell_type": "code",
   "execution_count": 15,
   "id": "5003e187",
   "metadata": {
    "scrolled": true
   },
   "outputs": [
    {
     "name": "stdout",
     "output_type": "stream",
     "text": [
      "<class 'pandas.core.frame.DataFrame'>\n",
      "RangeIndex: 115 entries, 0 to 114\n",
      "Data columns (total 4 columns):\n",
      " #   Column  Non-Null Count  Dtype \n",
      "---  ------  --------------  ----- \n",
      " 0   class   115 non-null    object\n",
      " 1   gold    115 non-null    int64 \n",
      " 2   silver  115 non-null    int64 \n",
      " 3   bronze  115 non-null    int64 \n",
      "dtypes: int64(3), object(1)\n",
      "memory usage: 3.7+ KB\n"
     ]
    }
   ],
   "source": [
    "data_changed_1 = pd.DataFrame()\n",
    "data_changed_1[\"class\"] = medal_by_country[\"class\"]\n",
    "data_changed_1[\"gold\"] = y_gold\n",
    "data_changed_1[\"silver\"] = y_silver\n",
    "data_changed_1[\"bronze\"] = y_bronze\n",
    "data_changed_1 = data_changed_1.astype({\"class\": str}, errors='raise') \n",
    "data_changed_1.info()"
   ]
  },
  {
   "cell_type": "code",
   "execution_count": 16,
   "id": "ab0e895b",
   "metadata": {
    "scrolled": true
   },
   "outputs": [
    {
     "name": "stderr",
     "output_type": "stream",
     "text": [
      "C:\\ProgramData\\Anaconda3\\lib\\site-packages\\seaborn\\_decorators.py:36: FutureWarning: Pass the following variable as a keyword arg: x. From version 0.12, the only valid positional argument will be `data`, and passing other arguments without an explicit keyword will result in an error or misinterpretation.\n",
      "  warnings.warn(\n"
     ]
    },
    {
     "data": {
      "text/plain": [
       "<AxesSubplot:xlabel='gold', ylabel='count'>"
      ]
     },
     "execution_count": 16,
     "metadata": {},
     "output_type": "execute_result"
    },
    {
     "data": {
      "image/png": "[encoded data removed]",
      "text/plain": [
       "<Figure size 432x288 with 1 Axes>"
      ]
     },
     "metadata": {
      "needs_background": "light"
     },
     "output_type": "display_data"
    }
   ],
   "source": [
    "sns.countplot(data_changed_1['gold'],hue=data_changed_1['class'])"
   ]
  },
  {
   "cell_type": "code",
   "execution_count": 17,
   "id": "ee90a8a3",
   "metadata": {},
   "outputs": [],
   "source": [
    "X = data_changed_1.drop('class',axis=1)\n",
    "y = data_changed_1[['class']]\n",
    "X_train, X_test, y_train, y_test = train_test_split(X, y, test_size = 0.3,random_state=42)"
   ]
  },
  {
   "cell_type": "code",
   "execution_count": 18,
   "id": "6da1a063",
   "metadata": {},
   "outputs": [
    {
     "data": {
      "text/html": [
       "<style>#sk-container-id-2 {color: black;background-color: white;}#sk-container-id-2 pre{padding: 0;}#sk-container-id-2 div.sk-toggleable {background-color: white;}#sk-container-id-2 label.sk-toggleable__label {cursor: pointer;display: block;width: 100%;margin-bottom: 0;padding: 0.3em;box-sizing: border-box;text-align: center;}#sk-container-id-2 label.sk-toggleable__label-arrow:before {content: \"▸\";float: left;margin-right: 0.25em;color: #696969;}#sk-container-id-2 label.sk-toggleable__label-arrow:hover:before {color: black;}#sk-container-id-2 div.sk-estimator:hover label.sk-toggleable__label-arrow:before {color: black;}#sk-container-id-2 div.sk-toggleable__content {max-height: 0;max-width: 0;overflow: hidden;text-align: left;background-color: #f0f8ff;}#sk-container-id-2 div.sk-toggleable__content pre {margin: 0.2em;color: black;border-radius: 0.25em;background-color: #f0f8ff;}#sk-container-id-2 input.sk-toggleable__control:checked~div.sk-toggleable__content {max-height: 200px;max-width: 100%;overflow: auto;}#sk-container-id-2 input.sk-toggleable__control:checked~label.sk-toggleable__label-arrow:before {content: \"▾\";}#sk-container-id-2 div.sk-estimator input.sk-toggleable__control:checked~label.sk-toggleable__label {background-color: #d4ebff;}#sk-container-id-2 div.sk-label input.sk-toggleable__control:checked~label.sk-toggleable__label {background-color: #d4ebff;}#sk-container-id-2 input.sk-hidden--visually {border: 0;clip: rect(1px 1px 1px 1px);clip: rect(1px, 1px, 1px, 1px);height: 1px;margin: -1px;overflow: hidden;padding: 0;position: absolute;width: 1px;}#sk-container-id-2 div.sk-estimator {font-family: monospace;background-color: #f0f8ff;border: 1px dotted black;border-radius: 0.25em;box-sizing: border-box;margin-bottom: 0.5em;}#sk-container-id-2 div.sk-estimator:hover {background-color: #d4ebff;}#sk-container-id-2 div.sk-parallel-item::after {content: \"\";width: 100%;border-bottom: 1px solid gray;flex-grow: 1;}#sk-container-id-2 div.sk-label:hover label.sk-toggleable__label {background-color: #d4ebff;}#sk-container-id-2 div.sk-serial::before {content: \"\";position: absolute;border-left: 1px solid gray;box-sizing: border-box;top: 0;bottom: 0;left: 50%;z-index: 0;}#sk-container-id-2 div.sk-serial {display: flex;flex-direction: column;align-items: center;background-color: white;padding-right: 0.2em;padding-left: 0.2em;position: relative;}#sk-container-id-2 div.sk-item {position: relative;z-index: 1;}#sk-container-id-2 div.sk-parallel {display: flex;align-items: stretch;justify-content: center;background-color: white;position: relative;}#sk-container-id-2 div.sk-item::before, #sk-container-id-2 div.sk-parallel-item::before {content: \"\";position: absolute;border-left: 1px solid gray;box-sizing: border-box;top: 0;bottom: 0;left: 50%;z-index: -1;}#sk-container-id-2 div.sk-parallel-item {display: flex;flex-direction: column;z-index: 1;position: relative;background-color: white;}#sk-container-id-2 div.sk-parallel-item:first-child::after {align-self: flex-end;width: 50%;}#sk-container-id-2 div.sk-parallel-item:last-child::after {align-self: flex-start;width: 50%;}#sk-container-id-2 div.sk-parallel-item:only-child::after {width: 0;}#sk-container-id-2 div.sk-dashed-wrapped {border: 1px dashed gray;margin: 0 0.4em 0.5em 0.4em;box-sizing: border-box;padding-bottom: 0.4em;background-color: white;}#sk-container-id-2 div.sk-label label {font-family: monospace;font-weight: bold;display: inline-block;line-height: 1.2em;}#sk-container-id-2 div.sk-label-container {text-align: center;}#sk-container-id-2 div.sk-container {/* jupyter's `normalize.less` sets `[hidden] { display: none; }` but bootstrap.min.css set `[hidden] { display: none !important; }` so we also need the `!important` here to be able to override the default hidden behavior on the sphinx rendered scikit-learn.org. See: https://github.com/scikit-learn/scikit-learn/issues/21755 */display: inline-block !important;position: relative;}#sk-container-id-2 div.sk-text-repr-fallback {display: none;}</style><div id=\"sk-container-id-2\" class=\"sk-top-container\"><div class=\"sk-text-repr-fallback\"><pre>DecisionTreeClassifier(max_depth=3, min_samples_leaf=5, random_state=42)</pre><b>In a Jupyter environment, please rerun this cell to show the HTML representation or trust the notebook. <br />On GitHub, the HTML representation is unable to render, please try loading this page with nbviewer.org.</b></div><div class=\"sk-container\" hidden><div class=\"sk-item\"><div class=\"sk-estimator sk-toggleable\"><input class=\"sk-toggleable__control sk-hidden--visually\" id=\"sk-estimator-id-2\" type=\"checkbox\" checked><label for=\"sk-estimator-id-2\" class=\"sk-toggleable__label sk-toggleable__label-arrow\">DecisionTreeClassifier</label><div class=\"sk-toggleable__content\"><pre>DecisionTreeClassifier(max_depth=3, min_samples_leaf=5, random_state=42)</pre></div></div></div></div></div>"
      ],
      "text/plain": [
       "DecisionTreeClassifier(max_depth=3, min_samples_leaf=5, random_state=42)"
      ]
     },
     "execution_count": 18,
     "metadata": {},
     "output_type": "execute_result"
    }
   ],
   "source": [
    "clf_model = DecisionTreeClassifier(criterion=\"gini\", random_state=42,max_depth=3, min_samples_leaf=5)   \n",
    "clf_model.fit(X_train,y_train)"
   ]
  },
  {
   "cell_type": "code",
   "execution_count": 19,
   "id": "86c12dcf",
   "metadata": {},
   "outputs": [
    {
     "data": {
      "text/plain": [
       "0.2857142857142857"
      ]
     },
     "execution_count": 19,
     "metadata": {},
     "output_type": "execute_result"
    }
   ],
   "source": [
    "y_predict = clf_model.predict(X_test)\n",
    "accuracy_score(y_test,y_predict)"
   ]
  },
  {
   "cell_type": "code",
   "execution_count": 20,
   "id": "f28d30cb",
   "metadata": {},
   "outputs": [],
   "source": [
    "target = list(data_changed_1['class'].unique())\n",
    "feature_names = list(X.columns)"
   ]
  },
  {
   "cell_type": "code",
   "execution_count": 21,
   "id": "fcd4593b",
   "metadata": {},
   "outputs": [
    {
     "data": {
      "image/svg+xml": [
       "<?xml version=\"1.0\" encoding=\"UTF-8\" standalone=\"no\"?>\r\n",
       "<!DOCTYPE svg PUBLIC \"-//W3C//DTD SVG 1.1//EN\"\r\n",
       " \"http://www.w3.org/Graphics/SVG/1.1/DTD/svg11.dtd\">\r\n",
       "<!-- Generated by graphviz version 2.38.0 (20140413.2041)\r\n",
       " -->\r\n",
       "<!-- Title: Tree Pages: 1 -->\r\n",
       "<svg width=\"606pt\" height=\"314pt\"\r\n",
       " viewBox=\"0.00 0.00 605.50 314.00\" xmlns=\"http://www.w3.org/2000/svg\" xmlns:xlink=\"http://www.w3.org/1999/xlink\">\r\n",
       "<g id=\"graph0\" class=\"graph\" transform=\"scale(1 1) rotate(0) translate(4 310)\">\r\n",
       "<title>Tree</title>\r\n",
       "<polygon fill=\"white\" stroke=\"none\" points=\"-4,4 -4,-310 601.5,-310 601.5,4 -4,4\"/>\r\n",
       "<!-- 0 -->\r\n",
       "<g id=\"node1\" class=\"node\"><title>0</title>\r\n",
       "<path fill=\"#fcfffc\" stroke=\"black\" d=\"M353.5,-306C353.5,-306 216.5,-306 216.5,-306 210.5,-306 204.5,-300 204.5,-294 204.5,-294 204.5,-235 204.5,-235 204.5,-229 210.5,-223 216.5,-223 216.5,-223 353.5,-223 353.5,-223 359.5,-223 365.5,-229 365.5,-235 365.5,-235 365.5,-294 365.5,-294 365.5,-300 359.5,-306 353.5,-306\"/>\r\n",
       "<text text-anchor=\"start\" x=\"253\" y=\"-290.8\" font-family=\"Helvetica,sans-Serif\" font-size=\"14.00\">gold ≤ 0.5</text>\r\n",
       "<text text-anchor=\"start\" x=\"247.5\" y=\"-275.8\" font-family=\"Helvetica,sans-Serif\" font-size=\"14.00\">gini = 0.748</text>\r\n",
       "<text text-anchor=\"start\" x=\"241.5\" y=\"-260.8\" font-family=\"Helvetica,sans-Serif\" font-size=\"14.00\">samples = 80</text>\r\n",
       "<text text-anchor=\"start\" x=\"212.5\" y=\"-245.8\" font-family=\"Helvetica,sans-Serif\" font-size=\"14.00\">value = [20, 22, 21, 17]</text>\r\n",
       "<text text-anchor=\"start\" x=\"256\" y=\"-230.8\" font-family=\"Helvetica,sans-Serif\" font-size=\"14.00\">class = 2</text>\r\n",
       "</g>\r\n",
       "<!-- 1 -->\r\n",
       "<g id=\"node2\" class=\"node\"><title>1</title>\r\n",
       "<path fill=\"#eda7f3\" stroke=\"black\" d=\"M258,-187C258,-187 154,-187 154,-187 148,-187 142,-181 142,-175 142,-175 142,-116 142,-116 142,-110 148,-104 154,-104 154,-104 258,-104 258,-104 264,-104 270,-110 270,-116 270,-116 270,-175 270,-175 270,-181 264,-187 258,-187\"/>\r\n",
       "<text text-anchor=\"start\" x=\"171.5\" y=\"-171.8\" font-family=\"Helvetica,sans-Serif\" font-size=\"14.00\">silver ≤ 0.5</text>\r\n",
       "<text text-anchor=\"start\" x=\"168.5\" y=\"-156.8\" font-family=\"Helvetica,sans-Serif\" font-size=\"14.00\">gini = 0.459</text>\r\n",
       "<text text-anchor=\"start\" x=\"162.5\" y=\"-141.8\" font-family=\"Helvetica,sans-Serif\" font-size=\"14.00\">samples = 14</text>\r\n",
       "<text text-anchor=\"start\" x=\"150\" y=\"-126.8\" font-family=\"Helvetica,sans-Serif\" font-size=\"14.00\">value = [0, 0, 5, 9]</text>\r\n",
       "<text text-anchor=\"start\" x=\"177\" y=\"-111.8\" font-family=\"Helvetica,sans-Serif\" font-size=\"14.00\">class = 4</text>\r\n",
       "</g>\r\n",
       "<!-- 0&#45;&gt;1 -->\r\n",
       "<g id=\"edge1\" class=\"edge\"><title>0&#45;&gt;1</title>\r\n",
       "<path fill=\"none\" stroke=\"black\" d=\"M257.591,-222.907C251.586,-214.014 245.169,-204.509 238.971,-195.331\"/>\r\n",
       "<polygon fill=\"black\" stroke=\"black\" points=\"241.857,-193.35 233.36,-187.021 236.056,-197.267 241.857,-193.35\"/>\r\n",
       "<text text-anchor=\"middle\" x=\"228.602\" y=\"-207.864\" font-family=\"Helvetica,sans-Serif\" font-size=\"14.00\">True</text>\r\n",
       "</g>\r\n",
       "<!-- 4 -->\r\n",
       "<g id=\"node5\" class=\"node\"><title>4</title>\r\n",
       "<path fill=\"#f7fef6\" stroke=\"black\" d=\"M429.5,-187C429.5,-187 300.5,-187 300.5,-187 294.5,-187 288.5,-181 288.5,-175 288.5,-175 288.5,-116 288.5,-116 288.5,-110 294.5,-104 300.5,-104 300.5,-104 429.5,-104 429.5,-104 435.5,-104 441.5,-110 441.5,-116 441.5,-116 441.5,-175 441.5,-175 441.5,-181 435.5,-187 429.5,-187\"/>\r\n",
       "<text text-anchor=\"start\" x=\"325.5\" y=\"-171.8\" font-family=\"Helvetica,sans-Serif\" font-size=\"14.00\">bronze ≤ 0.5</text>\r\n",
       "<text text-anchor=\"start\" x=\"327.5\" y=\"-156.8\" font-family=\"Helvetica,sans-Serif\" font-size=\"14.00\">gini = 0.724</text>\r\n",
       "<text text-anchor=\"start\" x=\"321.5\" y=\"-141.8\" font-family=\"Helvetica,sans-Serif\" font-size=\"14.00\">samples = 66</text>\r\n",
       "<text text-anchor=\"start\" x=\"296.5\" y=\"-126.8\" font-family=\"Helvetica,sans-Serif\" font-size=\"14.00\">value = [20, 22, 16, 8]</text>\r\n",
       "<text text-anchor=\"start\" x=\"336\" y=\"-111.8\" font-family=\"Helvetica,sans-Serif\" font-size=\"14.00\">class = 2</text>\r\n",
       "</g>\r\n",
       "<!-- 0&#45;&gt;4 -->\r\n",
       "<g id=\"edge4\" class=\"edge\"><title>0&#45;&gt;4</title>\r\n",
       "<path fill=\"none\" stroke=\"black\" d=\"M312.756,-222.907C318.837,-214.014 325.336,-204.509 331.611,-195.331\"/>\r\n",
       "<polygon fill=\"black\" stroke=\"black\" points=\"334.538,-197.251 337.293,-187.021 328.76,-193.3 334.538,-197.251\"/>\r\n",
       "<text text-anchor=\"middle\" x=\"341.908\" y=\"-207.891\" font-family=\"Helvetica,sans-Serif\" font-size=\"14.00\">False</text>\r\n",
       "</g>\r\n",
       "<!-- 2 -->\r\n",
       "<g id=\"node3\" class=\"node\"><title>2</title>\r\n",
       "<path fill=\"#df61ea\" stroke=\"black\" d=\"M116,-68C116,-68 12,-68 12,-68 6,-68 0,-62 0,-56 0,-56 0,-12 0,-12 0,-6 6,-0 12,-0 12,-0 116,-0 116,-0 122,-0 128,-6 128,-12 128,-12 128,-56 128,-56 128,-62 122,-68 116,-68\"/>\r\n",
       "<text text-anchor=\"start\" x=\"26.5\" y=\"-52.8\" font-family=\"Helvetica,sans-Serif\" font-size=\"14.00\">gini = 0.278</text>\r\n",
       "<text text-anchor=\"start\" x=\"24.5\" y=\"-37.8\" font-family=\"Helvetica,sans-Serif\" font-size=\"14.00\">samples = 6</text>\r\n",
       "<text text-anchor=\"start\" x=\"8\" y=\"-22.8\" font-family=\"Helvetica,sans-Serif\" font-size=\"14.00\">value = [0, 0, 1, 5]</text>\r\n",
       "<text text-anchor=\"start\" x=\"35\" y=\"-7.8\" font-family=\"Helvetica,sans-Serif\" font-size=\"14.00\">class = 4</text>\r\n",
       "</g>\r\n",
       "<!-- 1&#45;&gt;2 -->\r\n",
       "<g id=\"edge2\" class=\"edge\"><title>1&#45;&gt;2</title>\r\n",
       "<path fill=\"none\" stroke=\"black\" d=\"M153.124,-103.726C140.705,-94.1494 127.493,-83.9611 115.151,-74.4438\"/>\r\n",
       "<polygon fill=\"black\" stroke=\"black\" points=\"117.239,-71.6345 107.183,-68.2996 112.965,-77.1778 117.239,-71.6345\"/>\r\n",
       "</g>\r\n",
       "<!-- 3 -->\r\n",
       "<g id=\"node4\" class=\"node\"><title>3</title>\r\n",
       "<path fill=\"#ffffff\" stroke=\"black\" d=\"M262,-68C262,-68 158,-68 158,-68 152,-68 146,-62 146,-56 146,-56 146,-12 146,-12 146,-6 152,-0 158,-0 158,-0 262,-0 262,-0 268,-0 274,-6 274,-12 274,-12 274,-56 274,-56 274,-62 268,-68 262,-68\"/>\r\n",
       "<text text-anchor=\"start\" x=\"181\" y=\"-52.8\" font-family=\"Helvetica,sans-Serif\" font-size=\"14.00\">gini = 0.5</text>\r\n",
       "<text text-anchor=\"start\" x=\"170.5\" y=\"-37.8\" font-family=\"Helvetica,sans-Serif\" font-size=\"14.00\">samples = 8</text>\r\n",
       "<text text-anchor=\"start\" x=\"154\" y=\"-22.8\" font-family=\"Helvetica,sans-Serif\" font-size=\"14.00\">value = [0, 0, 4, 4]</text>\r\n",
       "<text text-anchor=\"start\" x=\"181\" y=\"-7.8\" font-family=\"Helvetica,sans-Serif\" font-size=\"14.00\">class = 3</text>\r\n",
       "</g>\r\n",
       "<!-- 1&#45;&gt;3 -->\r\n",
       "<g id=\"edge3\" class=\"edge\"><title>1&#45;&gt;3</title>\r\n",
       "<path fill=\"none\" stroke=\"black\" d=\"M207.489,-103.726C207.789,-95.5175 208.106,-86.8595 208.409,-78.56\"/>\r\n",
       "<polygon fill=\"black\" stroke=\"black\" points=\"211.916,-78.4207 208.784,-68.2996 204.921,-78.1651 211.916,-78.4207\"/>\r\n",
       "</g>\r\n",
       "<!-- 5 -->\r\n",
       "<g id=\"node6\" class=\"node\"><title>5</title>\r\n",
       "<path fill=\"#f5cef8\" stroke=\"black\" d=\"M414,-68C414,-68 310,-68 310,-68 304,-68 298,-62 298,-56 298,-56 298,-12 298,-12 298,-6 304,-0 310,-0 310,-0 414,-0 414,-0 420,-0 426,-6 426,-12 426,-12 426,-56 426,-56 426,-62 420,-68 414,-68\"/>\r\n",
       "<text text-anchor=\"start\" x=\"324.5\" y=\"-52.8\" font-family=\"Helvetica,sans-Serif\" font-size=\"14.00\">gini = 0.611</text>\r\n",
       "<text text-anchor=\"start\" x=\"322.5\" y=\"-37.8\" font-family=\"Helvetica,sans-Serif\" font-size=\"14.00\">samples = 6</text>\r\n",
       "<text text-anchor=\"start\" x=\"306\" y=\"-22.8\" font-family=\"Helvetica,sans-Serif\" font-size=\"14.00\">value = [0, 1, 2, 3]</text>\r\n",
       "<text text-anchor=\"start\" x=\"333\" y=\"-7.8\" font-family=\"Helvetica,sans-Serif\" font-size=\"14.00\">class = 4</text>\r\n",
       "</g>\r\n",
       "<!-- 4&#45;&gt;5 -->\r\n",
       "<g id=\"edge5\" class=\"edge\"><title>4&#45;&gt;5</title>\r\n",
       "<path fill=\"none\" stroke=\"black\" d=\"M363.883,-103.726C363.658,-95.5175 363.421,-86.8595 363.193,-78.56\"/>\r\n",
       "<polygon fill=\"black\" stroke=\"black\" points=\"366.685,-78.2 362.912,-68.2996 359.688,-78.3917 366.685,-78.2\"/>\r\n",
       "</g>\r\n",
       "<!-- 6 -->\r\n",
       "<g id=\"node7\" class=\"node\"><title>6</title>\r\n",
       "<path fill=\"#fafefa\" stroke=\"black\" d=\"M585.5,-68C585.5,-68 456.5,-68 456.5,-68 450.5,-68 444.5,-62 444.5,-56 444.5,-56 444.5,-12 444.5,-12 444.5,-6 450.5,-0 456.5,-0 456.5,-0 585.5,-0 585.5,-0 591.5,-0 597.5,-6 597.5,-12 597.5,-12 597.5,-56 597.5,-56 597.5,-62 591.5,-68 585.5,-68\"/>\r\n",
       "<text text-anchor=\"start\" x=\"483.5\" y=\"-52.8\" font-family=\"Helvetica,sans-Serif\" font-size=\"14.00\">gini = 0.705</text>\r\n",
       "<text text-anchor=\"start\" x=\"477.5\" y=\"-37.8\" font-family=\"Helvetica,sans-Serif\" font-size=\"14.00\">samples = 60</text>\r\n",
       "<text text-anchor=\"start\" x=\"452.5\" y=\"-22.8\" font-family=\"Helvetica,sans-Serif\" font-size=\"14.00\">value = [20, 21, 14, 5]</text>\r\n",
       "<text text-anchor=\"start\" x=\"492\" y=\"-7.8\" font-family=\"Helvetica,sans-Serif\" font-size=\"14.00\">class = 2</text>\r\n",
       "</g>\r\n",
       "<!-- 4&#45;&gt;6 -->\r\n",
       "<g id=\"edge6\" class=\"edge\"><title>4&#45;&gt;6</title>\r\n",
       "<path fill=\"none\" stroke=\"black\" d=\"M423.089,-103.726C436.862,-94.0582 451.524,-83.767 465.193,-74.172\"/>\r\n",
       "<polygon fill=\"black\" stroke=\"black\" points=\"467.385,-76.9096 473.559,-68.2996 463.364,-71.1801 467.385,-76.9096\"/>\r\n",
       "</g>\r\n",
       "</g>\r\n",
       "</svg>\r\n"
      ],
      "text/plain": [
       "<graphviz.files.Source at 0x1dce2a9a400>"
      ]
     },
     "execution_count": 21,
     "metadata": {},
     "output_type": "execute_result"
    }
   ],
   "source": [
    "dot_data = tree.export_graphviz(clf_model, out_file=None, feature_names=feature_names,  class_names=target,  filled=True, rounded=True,  special_characters=True)  \n",
    "graph = graphviz.Source(dot_data)  \n",
    "graph"
   ]
  },
  {
   "cell_type": "code",
   "execution_count": 22,
   "id": "51a3626e",
   "metadata": {
    "scrolled": true
   },
   "outputs": [
    {
     "name": "stdout",
     "output_type": "stream",
     "text": [
      "<class 'pandas.core.frame.DataFrame'>\n",
      "RangeIndex: 115 entries, 0 to 114\n",
      "Data columns (total 5 columns):\n",
      " #   Column  Non-Null Count  Dtype \n",
      "---  ------  --------------  ----- \n",
      " 0   class   115 non-null    object\n",
      " 1   gold    115 non-null    int64 \n",
      " 2   silver  115 non-null    int64 \n",
      " 3   bronze  115 non-null    int64 \n",
      " 4   total   115 non-null    int64 \n",
      "dtypes: int64(4), object(1)\n",
      "memory usage: 4.6+ KB\n"
     ]
    }
   ],
   "source": [
    "data_changed_2 = pd.DataFrame()\n",
    "data_changed_2[\"class\"] = medal_by_country[\"class\"]\n",
    "data_changed_2[\"gold\"] = y_gold\n",
    "data_changed_2[\"silver\"] = y_silver\n",
    "data_changed_2[\"bronze\"] = y_bronze\n",
    "data_changed_2[\"total\"] = medal_by_country[\"total\"]\n",
    "data_changed_2 = data_changed_2.astype({\"class\": str}, errors='raise') \n",
    "data_changed_2.info()"
   ]
  },
  {
   "cell_type": "code",
   "execution_count": 23,
   "id": "c44638d6",
   "metadata": {
    "scrolled": true
   },
   "outputs": [
    {
     "name": "stderr",
     "output_type": "stream",
     "text": [
      "C:\\ProgramData\\Anaconda3\\lib\\site-packages\\seaborn\\_decorators.py:36: FutureWarning: Pass the following variable as a keyword arg: x. From version 0.12, the only valid positional argument will be `data`, and passing other arguments without an explicit keyword will result in an error or misinterpretation.\n",
      "  warnings.warn(\n"
     ]
    },
    {
     "data": {
      "text/plain": [
       "<AxesSubplot:xlabel='gold', ylabel='count'>"
      ]
     },
     "execution_count": 23,
     "metadata": {},
     "output_type": "execute_result"
    },
    {
     "data": {
      "image/png": "[encoded data removed]",
      "text/plain": [
       "<Figure size 432x288 with 1 Axes>"
      ]
     },
     "metadata": {
      "needs_background": "light"
     },
     "output_type": "display_data"
    }
   ],
   "source": [
    "sns.countplot(data_changed_2['gold'],hue=data_changed_2['class'])"
   ]
  },
  {
   "cell_type": "code",
   "execution_count": 24,
   "id": "6fbc049f",
   "metadata": {},
   "outputs": [],
   "source": [
    "X = data_changed_2.drop('class',axis=1)\n",
    "y = data_changed_2[['class']]\n",
    "X_train, X_test, y_train, y_test = train_test_split(X, y, test_size = 0.3,random_state=42)"
   ]
  },
  {
   "cell_type": "code",
   "execution_count": 25,
   "id": "8f70df32",
   "metadata": {},
   "outputs": [
    {
     "data": {
      "text/html": [
       "<style>#sk-container-id-3 {color: black;background-color: white;}#sk-container-id-3 pre{padding: 0;}#sk-container-id-3 div.sk-toggleable {background-color: white;}#sk-container-id-3 label.sk-toggleable__label {cursor: pointer;display: block;width: 100%;margin-bottom: 0;padding: 0.3em;box-sizing: border-box;text-align: center;}#sk-container-id-3 label.sk-toggleable__label-arrow:before {content: \"▸\";float: left;margin-right: 0.25em;color: #696969;}#sk-container-id-3 label.sk-toggleable__label-arrow:hover:before {color: black;}#sk-container-id-3 div.sk-estimator:hover label.sk-toggleable__label-arrow:before {color: black;}#sk-container-id-3 div.sk-toggleable__content {max-height: 0;max-width: 0;overflow: hidden;text-align: left;background-color: #f0f8ff;}#sk-container-id-3 div.sk-toggleable__content pre {margin: 0.2em;color: black;border-radius: 0.25em;background-color: #f0f8ff;}#sk-container-id-3 input.sk-toggleable__control:checked~div.sk-toggleable__content {max-height: 200px;max-width: 100%;overflow: auto;}#sk-container-id-3 input.sk-toggleable__control:checked~label.sk-toggleable__label-arrow:before {content: \"▾\";}#sk-container-id-3 div.sk-estimator input.sk-toggleable__control:checked~label.sk-toggleable__label {background-color: #d4ebff;}#sk-container-id-3 div.sk-label input.sk-toggleable__control:checked~label.sk-toggleable__label {background-color: #d4ebff;}#sk-container-id-3 input.sk-hidden--visually {border: 0;clip: rect(1px 1px 1px 1px);clip: rect(1px, 1px, 1px, 1px);height: 1px;margin: -1px;overflow: hidden;padding: 0;position: absolute;width: 1px;}#sk-container-id-3 div.sk-estimator {font-family: monospace;background-color: #f0f8ff;border: 1px dotted black;border-radius: 0.25em;box-sizing: border-box;margin-bottom: 0.5em;}#sk-container-id-3 div.sk-estimator:hover {background-color: #d4ebff;}#sk-container-id-3 div.sk-parallel-item::after {content: \"\";width: 100%;border-bottom: 1px solid gray;flex-grow: 1;}#sk-container-id-3 div.sk-label:hover label.sk-toggleable__label {background-color: #d4ebff;}#sk-container-id-3 div.sk-serial::before {content: \"\";position: absolute;border-left: 1px solid gray;box-sizing: border-box;top: 0;bottom: 0;left: 50%;z-index: 0;}#sk-container-id-3 div.sk-serial {display: flex;flex-direction: column;align-items: center;background-color: white;padding-right: 0.2em;padding-left: 0.2em;position: relative;}#sk-container-id-3 div.sk-item {position: relative;z-index: 1;}#sk-container-id-3 div.sk-parallel {display: flex;align-items: stretch;justify-content: center;background-color: white;position: relative;}#sk-container-id-3 div.sk-item::before, #sk-container-id-3 div.sk-parallel-item::before {content: \"\";position: absolute;border-left: 1px solid gray;box-sizing: border-box;top: 0;bottom: 0;left: 50%;z-index: -1;}#sk-container-id-3 div.sk-parallel-item {display: flex;flex-direction: column;z-index: 1;position: relative;background-color: white;}#sk-container-id-3 div.sk-parallel-item:first-child::after {align-self: flex-end;width: 50%;}#sk-container-id-3 div.sk-parallel-item:last-child::after {align-self: flex-start;width: 50%;}#sk-container-id-3 div.sk-parallel-item:only-child::after {width: 0;}#sk-container-id-3 div.sk-dashed-wrapped {border: 1px dashed gray;margin: 0 0.4em 0.5em 0.4em;box-sizing: border-box;padding-bottom: 0.4em;background-color: white;}#sk-container-id-3 div.sk-label label {font-family: monospace;font-weight: bold;display: inline-block;line-height: 1.2em;}#sk-container-id-3 div.sk-label-container {text-align: center;}#sk-container-id-3 div.sk-container {/* jupyter's `normalize.less` sets `[hidden] { display: none; }` but bootstrap.min.css set `[hidden] { display: none !important; }` so we also need the `!important` here to be able to override the default hidden behavior on the sphinx rendered scikit-learn.org. See: https://github.com/scikit-learn/scikit-learn/issues/21755 */display: inline-block !important;position: relative;}#sk-container-id-3 div.sk-text-repr-fallback {display: none;}</style><div id=\"sk-container-id-3\" class=\"sk-top-container\"><div class=\"sk-text-repr-fallback\"><pre>DecisionTreeClassifier(max_depth=3, min_samples_leaf=5, random_state=42)</pre><b>In a Jupyter environment, please rerun this cell to show the HTML representation or trust the notebook. <br />On GitHub, the HTML representation is unable to render, please try loading this page with nbviewer.org.</b></div><div class=\"sk-container\" hidden><div class=\"sk-item\"><div class=\"sk-estimator sk-toggleable\"><input class=\"sk-toggleable__control sk-hidden--visually\" id=\"sk-estimator-id-3\" type=\"checkbox\" checked><label for=\"sk-estimator-id-3\" class=\"sk-toggleable__label sk-toggleable__label-arrow\">DecisionTreeClassifier</label><div class=\"sk-toggleable__content\"><pre>DecisionTreeClassifier(max_depth=3, min_samples_leaf=5, random_state=42)</pre></div></div></div></div></div>"
      ],
      "text/plain": [
       "DecisionTreeClassifier(max_depth=3, min_samples_leaf=5, random_state=42)"
      ]
     },
     "execution_count": 25,
     "metadata": {},
     "output_type": "execute_result"
    }
   ],
   "source": [
    "clf_model = DecisionTreeClassifier(criterion=\"gini\", random_state=42,max_depth=3, min_samples_leaf=5)   \n",
    "clf_model.fit(X_train,y_train)"
   ]
  },
  {
   "cell_type": "code",
   "execution_count": 26,
   "id": "aa241599",
   "metadata": {},
   "outputs": [
    {
     "data": {
      "text/plain": [
       "0.6285714285714286"
      ]
     },
     "execution_count": 26,
     "metadata": {},
     "output_type": "execute_result"
    }
   ],
   "source": [
    "y_predict = clf_model.predict(X_test)\n",
    "accuracy_score(y_test,y_predict)"
   ]
  },
  {
   "cell_type": "code",
   "execution_count": 27,
   "id": "e99f60a7",
   "metadata": {},
   "outputs": [],
   "source": [
    "target = list(data_changed_2['class'].unique())\n",
    "feature_names = list(X.columns)"
   ]
  },
  {
   "cell_type": "code",
   "execution_count": 28,
   "id": "c501efb2",
   "metadata": {},
   "outputs": [
    {
     "data": {
      "image/svg+xml": [
       "<?xml version=\"1.0\" encoding=\"UTF-8\" standalone=\"no\"?>\r\n",
       "<!DOCTYPE svg PUBLIC \"-//W3C//DTD SVG 1.1//EN\"\r\n",
       " \"http://www.w3.org/Graphics/SVG/1.1/DTD/svg11.dtd\">\r\n",
       "<!-- Generated by graphviz version 2.38.0 (20140413.2041)\r\n",
       " -->\r\n",
       "<!-- Title: Tree Pages: 1 -->\r\n",
       "<svg width=\"1168pt\" height=\"433pt\"\r\n",
       " viewBox=\"0.00 0.00 1168.00 433.00\" xmlns=\"http://www.w3.org/2000/svg\" xmlns:xlink=\"http://www.w3.org/1999/xlink\">\r\n",
       "<g id=\"graph0\" class=\"graph\" transform=\"scale(1 1) rotate(0) translate(4 429)\">\r\n",
       "<title>Tree</title>\r\n",
       "<polygon fill=\"white\" stroke=\"none\" points=\"-4,4 -4,-429 1164,-429 1164,4 -4,4\"/>\r\n",
       "<!-- 0 -->\r\n",
       "<g id=\"node1\" class=\"node\"><title>0</title>\r\n",
       "<path fill=\"#fcfffc\" stroke=\"black\" d=\"M653.5,-425C653.5,-425 516.5,-425 516.5,-425 510.5,-425 504.5,-419 504.5,-413 504.5,-413 504.5,-354 504.5,-354 504.5,-348 510.5,-342 516.5,-342 516.5,-342 653.5,-342 653.5,-342 659.5,-342 665.5,-348 665.5,-354 665.5,-354 665.5,-413 665.5,-413 665.5,-419 659.5,-425 653.5,-425\"/>\r\n",
       "<text text-anchor=\"start\" x=\"545.5\" y=\"-409.8\" font-family=\"Helvetica,sans-Serif\" font-size=\"14.00\">total ≤ 125.0</text>\r\n",
       "<text text-anchor=\"start\" x=\"547.5\" y=\"-394.8\" font-family=\"Helvetica,sans-Serif\" font-size=\"14.00\">gini = 0.748</text>\r\n",
       "<text text-anchor=\"start\" x=\"541.5\" y=\"-379.8\" font-family=\"Helvetica,sans-Serif\" font-size=\"14.00\">samples = 80</text>\r\n",
       "<text text-anchor=\"start\" x=\"512.5\" y=\"-364.8\" font-family=\"Helvetica,sans-Serif\" font-size=\"14.00\">value = [20, 22, 21, 17]</text>\r\n",
       "<text text-anchor=\"start\" x=\"556\" y=\"-349.8\" font-family=\"Helvetica,sans-Serif\" font-size=\"14.00\">class = 2</text>\r\n",
       "</g>\r\n",
       "<!-- 1 -->\r\n",
       "<g id=\"node2\" class=\"node\"><title>1</title>\r\n",
       "<path fill=\"#e6f3fc\" stroke=\"black\" d=\"M535.5,-306C535.5,-306 406.5,-306 406.5,-306 400.5,-306 394.5,-300 394.5,-294 394.5,-294 394.5,-235 394.5,-235 394.5,-229 400.5,-223 406.5,-223 406.5,-223 535.5,-223 535.5,-223 541.5,-223 547.5,-229 547.5,-235 547.5,-235 547.5,-294 547.5,-294 547.5,-300 541.5,-306 535.5,-306\"/>\r\n",
       "<text text-anchor=\"start\" x=\"440\" y=\"-290.8\" font-family=\"Helvetica,sans-Serif\" font-size=\"14.00\">total ≤ 6.0</text>\r\n",
       "<text text-anchor=\"start\" x=\"433.5\" y=\"-275.8\" font-family=\"Helvetica,sans-Serif\" font-size=\"14.00\">gini = 0.646</text>\r\n",
       "<text text-anchor=\"start\" x=\"427.5\" y=\"-260.8\" font-family=\"Helvetica,sans-Serif\" font-size=\"14.00\">samples = 49</text>\r\n",
       "<text text-anchor=\"start\" x=\"402.5\" y=\"-245.8\" font-family=\"Helvetica,sans-Serif\" font-size=\"14.00\">value = [0, 11, 21, 17]</text>\r\n",
       "<text text-anchor=\"start\" x=\"442\" y=\"-230.8\" font-family=\"Helvetica,sans-Serif\" font-size=\"14.00\">class = 3</text>\r\n",
       "</g>\r\n",
       "<!-- 0&#45;&gt;1 -->\r\n",
       "<g id=\"edge1\" class=\"edge\"><title>0&#45;&gt;1</title>\r\n",
       "<path fill=\"none\" stroke=\"black\" d=\"M545.448,-341.907C536.429,-332.651 526.765,-322.732 517.486,-313.209\"/>\r\n",
       "<polygon fill=\"black\" stroke=\"black\" points=\"519.967,-310.741 510.482,-306.021 514.954,-315.626 519.967,-310.741\"/>\r\n",
       "<text text-anchor=\"middle\" x=\"510.157\" y=\"-327.319\" font-family=\"Helvetica,sans-Serif\" font-size=\"14.00\">True</text>\r\n",
       "</g>\r\n",
       "<!-- 8 -->\r\n",
       "<g id=\"node9\" class=\"node\"><title>8</title>\r\n",
       "<path fill=\"#f3c6a6\" stroke=\"black\" d=\"M759.5,-306C759.5,-306 638.5,-306 638.5,-306 632.5,-306 626.5,-300 626.5,-294 626.5,-294 626.5,-235 626.5,-235 626.5,-229 632.5,-223 638.5,-223 638.5,-223 759.5,-223 759.5,-223 765.5,-223 771.5,-229 771.5,-235 771.5,-235 771.5,-294 771.5,-294 771.5,-300 765.5,-306 759.5,-306\"/>\r\n",
       "<text text-anchor=\"start\" x=\"659.5\" y=\"-290.8\" font-family=\"Helvetica,sans-Serif\" font-size=\"14.00\">total ≤ 427.5</text>\r\n",
       "<text text-anchor=\"start\" x=\"661.5\" y=\"-275.8\" font-family=\"Helvetica,sans-Serif\" font-size=\"14.00\">gini = 0.458</text>\r\n",
       "<text text-anchor=\"start\" x=\"655.5\" y=\"-260.8\" font-family=\"Helvetica,sans-Serif\" font-size=\"14.00\">samples = 31</text>\r\n",
       "<text text-anchor=\"start\" x=\"634.5\" y=\"-245.8\" font-family=\"Helvetica,sans-Serif\" font-size=\"14.00\">value = [20, 11, 0, 0]</text>\r\n",
       "<text text-anchor=\"start\" x=\"670\" y=\"-230.8\" font-family=\"Helvetica,sans-Serif\" font-size=\"14.00\">class = 1</text>\r\n",
       "</g>\r\n",
       "<!-- 0&#45;&gt;8 -->\r\n",
       "<g id=\"edge8\" class=\"edge\"><title>0&#45;&gt;8</title>\r\n",
       "<path fill=\"none\" stroke=\"black\" d=\"M624.552,-341.907C633.571,-332.651 643.235,-322.732 652.514,-313.209\"/>\r\n",
       "<polygon fill=\"black\" stroke=\"black\" points=\"655.046,-315.626 659.518,-306.021 650.033,-310.741 655.046,-315.626\"/>\r\n",
       "<text text-anchor=\"middle\" x=\"659.843\" y=\"-327.319\" font-family=\"Helvetica,sans-Serif\" font-size=\"14.00\">False</text>\r\n",
       "</g>\r\n",
       "<!-- 2 -->\r\n",
       "<g id=\"node3\" class=\"node\"><title>2</title>\r\n",
       "<path fill=\"#e685ef\" stroke=\"black\" d=\"M266.5,-187C266.5,-187 153.5,-187 153.5,-187 147.5,-187 141.5,-181 141.5,-175 141.5,-175 141.5,-116 141.5,-116 141.5,-110 147.5,-104 153.5,-104 153.5,-104 266.5,-104 266.5,-104 272.5,-104 278.5,-110 278.5,-116 278.5,-116 278.5,-175 278.5,-175 278.5,-181 272.5,-187 266.5,-187\"/>\r\n",
       "<text text-anchor=\"start\" x=\"178\" y=\"-171.8\" font-family=\"Helvetica,sans-Serif\" font-size=\"14.00\">gold ≤ 0.5</text>\r\n",
       "<text text-anchor=\"start\" x=\"172.5\" y=\"-156.8\" font-family=\"Helvetica,sans-Serif\" font-size=\"14.00\">gini = 0.443</text>\r\n",
       "<text text-anchor=\"start\" x=\"166.5\" y=\"-141.8\" font-family=\"Helvetica,sans-Serif\" font-size=\"14.00\">samples = 17</text>\r\n",
       "<text text-anchor=\"start\" x=\"149.5\" y=\"-126.8\" font-family=\"Helvetica,sans-Serif\" font-size=\"14.00\">value = [0, 1, 4, 12]</text>\r\n",
       "<text text-anchor=\"start\" x=\"181\" y=\"-111.8\" font-family=\"Helvetica,sans-Serif\" font-size=\"14.00\">class = 4</text>\r\n",
       "</g>\r\n",
       "<!-- 1&#45;&gt;2 -->\r\n",
       "<g id=\"edge2\" class=\"edge\"><title>1&#45;&gt;2</title>\r\n",
       "<path fill=\"none\" stroke=\"black\" d=\"M394.455,-229.187C360.907,-214.148 321.586,-196.521 287.886,-181.415\"/>\r\n",
       "<polygon fill=\"black\" stroke=\"black\" points=\"289.097,-178.122 278.54,-177.225 286.233,-184.509 289.097,-178.122\"/>\r\n",
       "</g>\r\n",
       "<!-- 5 -->\r\n",
       "<g id=\"node6\" class=\"node\"><title>5</title>\r\n",
       "<path fill=\"#c0e0f7\" stroke=\"black\" d=\"M531.5,-187C531.5,-187 410.5,-187 410.5,-187 404.5,-187 398.5,-181 398.5,-175 398.5,-175 398.5,-116 398.5,-116 398.5,-110 404.5,-104 410.5,-104 410.5,-104 531.5,-104 531.5,-104 537.5,-104 543.5,-110 543.5,-116 543.5,-116 543.5,-175 543.5,-175 543.5,-181 537.5,-187 531.5,-187\"/>\r\n",
       "<text text-anchor=\"start\" x=\"436\" y=\"-171.8\" font-family=\"Helvetica,sans-Serif\" font-size=\"14.00\">total ≤ 32.5</text>\r\n",
       "<text text-anchor=\"start\" x=\"433.5\" y=\"-156.8\" font-family=\"Helvetica,sans-Serif\" font-size=\"14.00\">gini = 0.596</text>\r\n",
       "<text text-anchor=\"start\" x=\"427.5\" y=\"-141.8\" font-family=\"Helvetica,sans-Serif\" font-size=\"14.00\">samples = 32</text>\r\n",
       "<text text-anchor=\"start\" x=\"406.5\" y=\"-126.8\" font-family=\"Helvetica,sans-Serif\" font-size=\"14.00\">value = [0, 10, 17, 5]</text>\r\n",
       "<text text-anchor=\"start\" x=\"442\" y=\"-111.8\" font-family=\"Helvetica,sans-Serif\" font-size=\"14.00\">class = 3</text>\r\n",
       "</g>\r\n",
       "<!-- 1&#45;&gt;5 -->\r\n",
       "<g id=\"edge5\" class=\"edge\"><title>1&#45;&gt;5</title>\r\n",
       "<path fill=\"none\" stroke=\"black\" d=\"M471,-222.907C471,-214.649 471,-205.864 471,-197.302\"/>\r\n",
       "<polygon fill=\"black\" stroke=\"black\" points=\"474.5,-197.021 471,-187.021 467.5,-197.021 474.5,-197.021\"/>\r\n",
       "</g>\r\n",
       "<!-- 3 -->\r\n",
       "<g id=\"node4\" class=\"node\"><title>3</title>\r\n",
       "<path fill=\"#e065eb\" stroke=\"black\" d=\"M116,-68C116,-68 12,-68 12,-68 6,-68 0,-62 0,-56 0,-56 0,-12 0,-12 0,-6 6,-0 12,-0 12,-0 116,-0 116,-0 122,-0 128,-6 128,-12 128,-12 128,-56 128,-56 128,-62 122,-68 116,-68\"/>\r\n",
       "<text text-anchor=\"start\" x=\"26.5\" y=\"-52.8\" font-family=\"Helvetica,sans-Serif\" font-size=\"14.00\">gini = 0.298</text>\r\n",
       "<text text-anchor=\"start\" x=\"20.5\" y=\"-37.8\" font-family=\"Helvetica,sans-Serif\" font-size=\"14.00\">samples = 11</text>\r\n",
       "<text text-anchor=\"start\" x=\"8\" y=\"-22.8\" font-family=\"Helvetica,sans-Serif\" font-size=\"14.00\">value = [0, 0, 2, 9]</text>\r\n",
       "<text text-anchor=\"start\" x=\"35\" y=\"-7.8\" font-family=\"Helvetica,sans-Serif\" font-size=\"14.00\">class = 4</text>\r\n",
       "</g>\r\n",
       "<!-- 2&#45;&gt;3 -->\r\n",
       "<g id=\"edge3\" class=\"edge\"><title>2&#45;&gt;3</title>\r\n",
       "<path fill=\"none\" stroke=\"black\" d=\"M155.635,-103.726C142.866,-94.1494 129.281,-83.9611 116.592,-74.4438\"/>\r\n",
       "<polygon fill=\"black\" stroke=\"black\" points=\"118.499,-71.4996 108.399,-68.2996 114.299,-77.0996 118.499,-71.4996\"/>\r\n",
       "</g>\r\n",
       "<!-- 4 -->\r\n",
       "<g id=\"node5\" class=\"node\"><title>4</title>\r\n",
       "<path fill=\"#f5cef8\" stroke=\"black\" d=\"M262,-68C262,-68 158,-68 158,-68 152,-68 146,-62 146,-56 146,-56 146,-12 146,-12 146,-6 152,-0 158,-0 158,-0 262,-0 262,-0 268,-0 274,-6 274,-12 274,-12 274,-56 274,-56 274,-62 268,-68 262,-68\"/>\r\n",
       "<text text-anchor=\"start\" x=\"172.5\" y=\"-52.8\" font-family=\"Helvetica,sans-Serif\" font-size=\"14.00\">gini = 0.611</text>\r\n",
       "<text text-anchor=\"start\" x=\"170.5\" y=\"-37.8\" font-family=\"Helvetica,sans-Serif\" font-size=\"14.00\">samples = 6</text>\r\n",
       "<text text-anchor=\"start\" x=\"154\" y=\"-22.8\" font-family=\"Helvetica,sans-Serif\" font-size=\"14.00\">value = [0, 1, 2, 3]</text>\r\n",
       "<text text-anchor=\"start\" x=\"181\" y=\"-7.8\" font-family=\"Helvetica,sans-Serif\" font-size=\"14.00\">class = 4</text>\r\n",
       "</g>\r\n",
       "<!-- 2&#45;&gt;4 -->\r\n",
       "<g id=\"edge4\" class=\"edge\"><title>2&#45;&gt;4</title>\r\n",
       "<path fill=\"none\" stroke=\"black\" d=\"M210,-103.726C210,-95.5175 210,-86.8595 210,-78.56\"/>\r\n",
       "<polygon fill=\"black\" stroke=\"black\" points=\"213.5,-78.2996 210,-68.2996 206.5,-78.2996 213.5,-78.2996\"/>\r\n",
       "</g>\r\n",
       "<!-- 6 -->\r\n",
       "<g id=\"node7\" class=\"node\"><title>6</title>\r\n",
       "<path fill=\"#80c0ee\" stroke=\"black\" d=\"M417.5,-68C417.5,-68 304.5,-68 304.5,-68 298.5,-68 292.5,-62 292.5,-56 292.5,-56 292.5,-12 292.5,-12 292.5,-6 298.5,-0 304.5,-0 304.5,-0 417.5,-0 417.5,-0 423.5,-0 429.5,-6 429.5,-12 429.5,-12 429.5,-56 429.5,-56 429.5,-62 423.5,-68 417.5,-68\"/>\r\n",
       "<text text-anchor=\"start\" x=\"323.5\" y=\"-52.8\" font-family=\"Helvetica,sans-Serif\" font-size=\"14.00\">gini = 0.457</text>\r\n",
       "<text text-anchor=\"start\" x=\"317.5\" y=\"-37.8\" font-family=\"Helvetica,sans-Serif\" font-size=\"14.00\">samples = 17</text>\r\n",
       "<text text-anchor=\"start\" x=\"300.5\" y=\"-22.8\" font-family=\"Helvetica,sans-Serif\" font-size=\"14.00\">value = [0, 2, 12, 3]</text>\r\n",
       "<text text-anchor=\"start\" x=\"332\" y=\"-7.8\" font-family=\"Helvetica,sans-Serif\" font-size=\"14.00\">class = 3</text>\r\n",
       "</g>\r\n",
       "<!-- 5&#45;&gt;6 -->\r\n",
       "<g id=\"edge6\" class=\"edge\"><title>5&#45;&gt;6</title>\r\n",
       "<path fill=\"none\" stroke=\"black\" d=\"M430.04,-103.726C420.786,-94.5142 410.964,-84.7364 401.719,-75.5343\"/>\r\n",
       "<polygon fill=\"black\" stroke=\"black\" points=\"404.008,-72.8741 394.452,-68.2996 399.07,-77.8351 404.008,-72.8741\"/>\r\n",
       "</g>\r\n",
       "<!-- 7 -->\r\n",
       "<g id=\"node8\" class=\"node\"><title>7</title>\r\n",
       "<path fill=\"#c8f7c4\" stroke=\"black\" d=\"M564,-68C564,-68 460,-68 460,-68 454,-68 448,-62 448,-56 448,-56 448,-12 448,-12 448,-6 454,-0 460,-0 460,-0 564,-0 564,-0 570,-0 576,-6 576,-12 576,-12 576,-56 576,-56 576,-62 570,-68 564,-68\"/>\r\n",
       "<text text-anchor=\"start\" x=\"474.5\" y=\"-52.8\" font-family=\"Helvetica,sans-Serif\" font-size=\"14.00\">gini = 0.587</text>\r\n",
       "<text text-anchor=\"start\" x=\"468.5\" y=\"-37.8\" font-family=\"Helvetica,sans-Serif\" font-size=\"14.00\">samples = 15</text>\r\n",
       "<text text-anchor=\"start\" x=\"456\" y=\"-22.8\" font-family=\"Helvetica,sans-Serif\" font-size=\"14.00\">value = [0, 8, 5, 2]</text>\r\n",
       "<text text-anchor=\"start\" x=\"483\" y=\"-7.8\" font-family=\"Helvetica,sans-Serif\" font-size=\"14.00\">class = 2</text>\r\n",
       "</g>\r\n",
       "<!-- 5&#45;&gt;7 -->\r\n",
       "<g id=\"edge7\" class=\"edge\"><title>5&#45;&gt;7</title>\r\n",
       "<path fill=\"none\" stroke=\"black\" d=\"M486.267,-103.726C489.443,-95.2439 492.799,-86.2819 496,-77.7312\"/>\r\n",
       "<polygon fill=\"black\" stroke=\"black\" points=\"499.303,-78.892 499.532,-68.2996 492.747,-76.4373 499.303,-78.892\"/>\r\n",
       "</g>\r\n",
       "<!-- 9 -->\r\n",
       "<g id=\"node10\" class=\"node\"><title>9</title>\r\n",
       "<path fill=\"#b5f5b0\" stroke=\"black\" d=\"M755.5,-187C755.5,-187 642.5,-187 642.5,-187 636.5,-187 630.5,-181 630.5,-175 630.5,-175 630.5,-116 630.5,-116 630.5,-110 636.5,-104 642.5,-104 642.5,-104 755.5,-104 755.5,-104 761.5,-104 767.5,-110 767.5,-116 767.5,-116 767.5,-175 767.5,-175 767.5,-181 761.5,-187 755.5,-187\"/>\r\n",
       "<text text-anchor=\"start\" x=\"659.5\" y=\"-171.8\" font-family=\"Helvetica,sans-Serif\" font-size=\"14.00\">total ≤ 311.5</text>\r\n",
       "<text text-anchor=\"start\" x=\"661.5\" y=\"-156.8\" font-family=\"Helvetica,sans-Serif\" font-size=\"14.00\">gini = 0.469</text>\r\n",
       "<text text-anchor=\"start\" x=\"655.5\" y=\"-141.8\" font-family=\"Helvetica,sans-Serif\" font-size=\"14.00\">samples = 16</text>\r\n",
       "<text text-anchor=\"start\" x=\"638.5\" y=\"-126.8\" font-family=\"Helvetica,sans-Serif\" font-size=\"14.00\">value = [6, 10, 0, 0]</text>\r\n",
       "<text text-anchor=\"start\" x=\"670\" y=\"-111.8\" font-family=\"Helvetica,sans-Serif\" font-size=\"14.00\">class = 2</text>\r\n",
       "</g>\r\n",
       "<!-- 8&#45;&gt;9 -->\r\n",
       "<g id=\"edge9\" class=\"edge\"><title>8&#45;&gt;9</title>\r\n",
       "<path fill=\"none\" stroke=\"black\" d=\"M699,-222.907C699,-214.649 699,-205.864 699,-197.302\"/>\r\n",
       "<polygon fill=\"black\" stroke=\"black\" points=\"702.5,-197.021 699,-187.021 695.5,-197.021 702.5,-197.021\"/>\r\n",
       "</g>\r\n",
       "<!-- 12 -->\r\n",
       "<g id=\"node13\" class=\"node\"><title>12</title>\r\n",
       "<path fill=\"#e78a47\" stroke=\"black\" d=\"M1006.5,-187C1006.5,-187 893.5,-187 893.5,-187 887.5,-187 881.5,-181 881.5,-175 881.5,-175 881.5,-116 881.5,-116 881.5,-110 887.5,-104 893.5,-104 893.5,-104 1006.5,-104 1006.5,-104 1012.5,-104 1018.5,-110 1018.5,-116 1018.5,-116 1018.5,-175 1018.5,-175 1018.5,-181 1012.5,-187 1006.5,-187\"/>\r\n",
       "<text text-anchor=\"start\" x=\"910.5\" y=\"-171.8\" font-family=\"Helvetica,sans-Serif\" font-size=\"14.00\">total ≤ 759.5</text>\r\n",
       "<text text-anchor=\"start\" x=\"912.5\" y=\"-156.8\" font-family=\"Helvetica,sans-Serif\" font-size=\"14.00\">gini = 0.124</text>\r\n",
       "<text text-anchor=\"start\" x=\"906.5\" y=\"-141.8\" font-family=\"Helvetica,sans-Serif\" font-size=\"14.00\">samples = 15</text>\r\n",
       "<text text-anchor=\"start\" x=\"889.5\" y=\"-126.8\" font-family=\"Helvetica,sans-Serif\" font-size=\"14.00\">value = [14, 1, 0, 0]</text>\r\n",
       "<text text-anchor=\"start\" x=\"921\" y=\"-111.8\" font-family=\"Helvetica,sans-Serif\" font-size=\"14.00\">class = 1</text>\r\n",
       "</g>\r\n",
       "<!-- 8&#45;&gt;12 -->\r\n",
       "<g id=\"edge12\" class=\"edge\"><title>8&#45;&gt;12</title>\r\n",
       "<path fill=\"none\" stroke=\"black\" d=\"M771.6,-229.659C803.094,-214.978 840.029,-197.761 872.097,-182.813\"/>\r\n",
       "<polygon fill=\"black\" stroke=\"black\" points=\"873.857,-185.855 881.442,-178.457 870.899,-179.51 873.857,-185.855\"/>\r\n",
       "</g>\r\n",
       "<!-- 10 -->\r\n",
       "<g id=\"node11\" class=\"node\"><title>10</title>\r\n",
       "<path fill=\"#ffffff\" stroke=\"black\" d=\"M710,-68C710,-68 606,-68 606,-68 600,-68 594,-62 594,-56 594,-56 594,-12 594,-12 594,-6 600,-0 606,-0 606,-0 710,-0 710,-0 716,-0 722,-6 722,-12 722,-12 722,-56 722,-56 722,-62 716,-68 710,-68\"/>\r\n",
       "<text text-anchor=\"start\" x=\"629\" y=\"-52.8\" font-family=\"Helvetica,sans-Serif\" font-size=\"14.00\">gini = 0.5</text>\r\n",
       "<text text-anchor=\"start\" x=\"614.5\" y=\"-37.8\" font-family=\"Helvetica,sans-Serif\" font-size=\"14.00\">samples = 10</text>\r\n",
       "<text text-anchor=\"start\" x=\"602\" y=\"-22.8\" font-family=\"Helvetica,sans-Serif\" font-size=\"14.00\">value = [5, 5, 0, 0]</text>\r\n",
       "<text text-anchor=\"start\" x=\"629\" y=\"-7.8\" font-family=\"Helvetica,sans-Serif\" font-size=\"14.00\">class = 1</text>\r\n",
       "</g>\r\n",
       "<!-- 9&#45;&gt;10 -->\r\n",
       "<g id=\"edge10\" class=\"edge\"><title>9&#45;&gt;10</title>\r\n",
       "<path fill=\"none\" stroke=\"black\" d=\"M683.733,-103.726C680.557,-95.2439 677.201,-86.2819 674,-77.7312\"/>\r\n",
       "<polygon fill=\"black\" stroke=\"black\" points=\"677.253,-76.4373 670.468,-68.2996 670.697,-78.892 677.253,-76.4373\"/>\r\n",
       "</g>\r\n",
       "<!-- 11 -->\r\n",
       "<g id=\"node12\" class=\"node\"><title>11</title>\r\n",
       "<path fill=\"#6cea61\" stroke=\"black\" d=\"M856,-68C856,-68 752,-68 752,-68 746,-68 740,-62 740,-56 740,-56 740,-12 740,-12 740,-6 746,-0 752,-0 752,-0 856,-0 856,-0 862,-0 868,-6 868,-12 868,-12 868,-56 868,-56 868,-62 862,-68 856,-68\"/>\r\n",
       "<text text-anchor=\"start\" x=\"766.5\" y=\"-52.8\" font-family=\"Helvetica,sans-Serif\" font-size=\"14.00\">gini = 0.278</text>\r\n",
       "<text text-anchor=\"start\" x=\"764.5\" y=\"-37.8\" font-family=\"Helvetica,sans-Serif\" font-size=\"14.00\">samples = 6</text>\r\n",
       "<text text-anchor=\"start\" x=\"748\" y=\"-22.8\" font-family=\"Helvetica,sans-Serif\" font-size=\"14.00\">value = [1, 5, 0, 0]</text>\r\n",
       "<text text-anchor=\"start\" x=\"775\" y=\"-7.8\" font-family=\"Helvetica,sans-Serif\" font-size=\"14.00\">class = 2</text>\r\n",
       "</g>\r\n",
       "<!-- 9&#45;&gt;11 -->\r\n",
       "<g id=\"edge11\" class=\"edge\"><title>9&#45;&gt;11</title>\r\n",
       "<path fill=\"none\" stroke=\"black\" d=\"M738.098,-103.726C746.932,-94.5142 756.308,-84.7364 765.131,-75.5343\"/>\r\n",
       "<polygon fill=\"black\" stroke=\"black\" points=\"767.674,-77.9399 772.069,-68.2996 762.621,-73.095 767.674,-77.9399\"/>\r\n",
       "</g>\r\n",
       "<!-- 13 -->\r\n",
       "<g id=\"node14\" class=\"node\"><title>13</title>\r\n",
       "<path fill=\"#e9965a\" stroke=\"black\" d=\"M1002,-68C1002,-68 898,-68 898,-68 892,-68 886,-62 886,-56 886,-56 886,-12 886,-12 886,-6 892,-0 898,-0 898,-0 1002,-0 1002,-0 1008,-0 1014,-6 1014,-12 1014,-12 1014,-56 1014,-56 1014,-62 1008,-68 1002,-68\"/>\r\n",
       "<text text-anchor=\"start\" x=\"912.5\" y=\"-52.8\" font-family=\"Helvetica,sans-Serif\" font-size=\"14.00\">gini = 0.245</text>\r\n",
       "<text text-anchor=\"start\" x=\"910.5\" y=\"-37.8\" font-family=\"Helvetica,sans-Serif\" font-size=\"14.00\">samples = 7</text>\r\n",
       "<text text-anchor=\"start\" x=\"894\" y=\"-22.8\" font-family=\"Helvetica,sans-Serif\" font-size=\"14.00\">value = [6, 1, 0, 0]</text>\r\n",
       "<text text-anchor=\"start\" x=\"921\" y=\"-7.8\" font-family=\"Helvetica,sans-Serif\" font-size=\"14.00\">class = 1</text>\r\n",
       "</g>\r\n",
       "<!-- 12&#45;&gt;13 -->\r\n",
       "<g id=\"edge13\" class=\"edge\"><title>12&#45;&gt;13</title>\r\n",
       "<path fill=\"none\" stroke=\"black\" d=\"M950,-103.726C950,-95.5175 950,-86.8595 950,-78.56\"/>\r\n",
       "<polygon fill=\"black\" stroke=\"black\" points=\"953.5,-78.2996 950,-68.2996 946.5,-78.2996 953.5,-78.2996\"/>\r\n",
       "</g>\r\n",
       "<!-- 14 -->\r\n",
       "<g id=\"node15\" class=\"node\"><title>14</title>\r\n",
       "<path fill=\"#e58139\" stroke=\"black\" d=\"M1148,-68C1148,-68 1044,-68 1044,-68 1038,-68 1032,-62 1032,-56 1032,-56 1032,-12 1032,-12 1032,-6 1038,-0 1044,-0 1044,-0 1148,-0 1148,-0 1154,-0 1160,-6 1160,-12 1160,-12 1160,-56 1160,-56 1160,-62 1154,-68 1148,-68\"/>\r\n",
       "<text text-anchor=\"start\" x=\"1067\" y=\"-52.8\" font-family=\"Helvetica,sans-Serif\" font-size=\"14.00\">gini = 0.0</text>\r\n",
       "<text text-anchor=\"start\" x=\"1056.5\" y=\"-37.8\" font-family=\"Helvetica,sans-Serif\" font-size=\"14.00\">samples = 8</text>\r\n",
       "<text text-anchor=\"start\" x=\"1040\" y=\"-22.8\" font-family=\"Helvetica,sans-Serif\" font-size=\"14.00\">value = [8, 0, 0, 0]</text>\r\n",
       "<text text-anchor=\"start\" x=\"1067\" y=\"-7.8\" font-family=\"Helvetica,sans-Serif\" font-size=\"14.00\">class = 1</text>\r\n",
       "</g>\r\n",
       "<!-- 12&#45;&gt;14 -->\r\n",
       "<g id=\"edge14\" class=\"edge\"><title>12&#45;&gt;14</title>\r\n",
       "<path fill=\"none\" stroke=\"black\" d=\"M1004.37,-103.726C1017.13,-94.1494 1030.72,-83.9611 1043.41,-74.4438\"/>\r\n",
       "<polygon fill=\"black\" stroke=\"black\" points=\"1045.7,-77.0996 1051.6,-68.2996 1041.5,-71.4996 1045.7,-77.0996\"/>\r\n",
       "</g>\r\n",
       "</g>\r\n",
       "</svg>\r\n"
      ],
      "text/plain": [
       "<graphviz.files.Source at 0x1dce2b20fa0>"
      ]
     },
     "execution_count": 28,
     "metadata": {},
     "output_type": "execute_result"
    }
   ],
   "source": [
    "dot_data = tree.export_graphviz(clf_model, out_file=None, feature_names=feature_names,  class_names=target,  filled=True, rounded=True,  special_characters=True)  \n",
    "graph = graphviz.Source(dot_data)  \n",
    "graph"
   ]
  },
  {
   "cell_type": "code",
   "execution_count": null,
   "id": "6ab8af5b",
   "metadata": {},
   "outputs": [],
   "source": []
  },
  {
   "cell_type": "code",
   "execution_count": null,
   "id": "ccf9481c",
   "metadata": {},
   "outputs": [],
   "source": []
  }
 ],
 "metadata": {
  "kernelspec": {
   "display_name": "Python 3 (ipykernel)",
   "language": "python",
   "name": "python3"
  },
  "language_info": {
   "codemirror_mode": {
    "name": "ipython",
    "version": 3
   },
   "file_extension": ".py",
   "mimetype": "text/x-python",
   "name": "python",
   "nbconvert_exporter": "python",
   "pygments_lexer": "ipython3",
   "version": "3.9.12"
  }
 },
 "nbformat": 4,
 "nbformat_minor": 5
}
