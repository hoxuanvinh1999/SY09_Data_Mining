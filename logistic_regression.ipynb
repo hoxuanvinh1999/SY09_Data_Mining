{
 "cells": [
  {
   "cell_type": "code",
   "execution_count": 1,
   "id": "75b3b0f0",
   "metadata": {},
   "outputs": [],
   "source": [
    "import pandas as pd\n",
    "import matplotlib.pyplot as plt\n",
    "import numpy as np\n",
    "import seaborn as sns\n",
    "from sklearn.datasets import load_digits\n",
    "from sklearn.linear_model import LogisticRegression\n",
    "from sklearn.metrics import classification_report, confusion_matrix\n",
    "from sklearn.model_selection import train_test_split\n",
    "from sklearn.preprocessing import StandardScaler\n",
    "import statsmodels.api as sm"
   ]
  },
  {
   "cell_type": "code",
   "execution_count": 2,
   "id": "66a640e0",
   "metadata": {},
   "outputs": [
    {
     "data": {
      "text/html": [
       "<div>\n",
       "<style scoped>\n",
       "    .dataframe tbody tr th:only-of-type {\n",
       "        vertical-align: middle;\n",
       "    }\n",
       "\n",
       "    .dataframe tbody tr th {\n",
       "        vertical-align: top;\n",
       "    }\n",
       "\n",
       "    .dataframe thead th {\n",
       "        text-align: right;\n",
       "    }\n",
       "</style>\n",
       "<table border=\"1\" class=\"dataframe\">\n",
       "  <thead>\n",
       "    <tr style=\"text-align: right;\">\n",
       "      <th></th>\n",
       "      <th>country</th>\n",
       "      <th>gold</th>\n",
       "      <th>silver</th>\n",
       "      <th>bronze</th>\n",
       "      <th>total</th>\n",
       "      <th>longitude</th>\n",
       "      <th>latitude</th>\n",
       "      <th>class</th>\n",
       "    </tr>\n",
       "  </thead>\n",
       "  <tbody>\n",
       "    <tr>\n",
       "      <th>0</th>\n",
       "      <td>FR Germany</td>\n",
       "      <td>289</td>\n",
       "      <td>218</td>\n",
       "      <td>198</td>\n",
       "      <td>1501</td>\n",
       "      <td>10.451526</td>\n",
       "      <td>51.165691</td>\n",
       "      <td>1</td>\n",
       "    </tr>\n",
       "    <tr>\n",
       "      <th>1</th>\n",
       "      <td>Sweden</td>\n",
       "      <td>190</td>\n",
       "      <td>205</td>\n",
       "      <td>143</td>\n",
       "      <td>1123</td>\n",
       "      <td>18.643501</td>\n",
       "      <td>60.128161</td>\n",
       "      <td>1</td>\n",
       "    </tr>\n",
       "    <tr>\n",
       "      <th>2</th>\n",
       "      <td>Belgium</td>\n",
       "      <td>79</td>\n",
       "      <td>73</td>\n",
       "      <td>70</td>\n",
       "      <td>453</td>\n",
       "      <td>4.469936</td>\n",
       "      <td>50.503887</td>\n",
       "      <td>1</td>\n",
       "    </tr>\n",
       "    <tr>\n",
       "      <th>3</th>\n",
       "      <td>Great Britain</td>\n",
       "      <td>439</td>\n",
       "      <td>502</td>\n",
       "      <td>483</td>\n",
       "      <td>2804</td>\n",
       "      <td>-3.435973</td>\n",
       "      <td>55.378051</td>\n",
       "      <td>1</td>\n",
       "    </tr>\n",
       "    <tr>\n",
       "      <th>4</th>\n",
       "      <td>Netherlands</td>\n",
       "      <td>189</td>\n",
       "      <td>239</td>\n",
       "      <td>237</td>\n",
       "      <td>1282</td>\n",
       "      <td>5.291266</td>\n",
       "      <td>52.132633</td>\n",
       "      <td>1</td>\n",
       "    </tr>\n",
       "    <tr>\n",
       "      <th>...</th>\n",
       "      <td>...</td>\n",
       "      <td>...</td>\n",
       "      <td>...</td>\n",
       "      <td>...</td>\n",
       "      <td>...</td>\n",
       "      <td>...</td>\n",
       "      <td>...</td>\n",
       "      <td>...</td>\n",
       "    </tr>\n",
       "    <tr>\n",
       "      <th>110</th>\n",
       "      <td>Syria</td>\n",
       "      <td>0</td>\n",
       "      <td>0</td>\n",
       "      <td>1</td>\n",
       "      <td>1</td>\n",
       "      <td>38.996815</td>\n",
       "      <td>34.802075</td>\n",
       "      <td>4</td>\n",
       "    </tr>\n",
       "    <tr>\n",
       "      <th>111</th>\n",
       "      <td>Kazakhstan</td>\n",
       "      <td>1</td>\n",
       "      <td>1</td>\n",
       "      <td>0</td>\n",
       "      <td>5</td>\n",
       "      <td>66.923684</td>\n",
       "      <td>48.019573</td>\n",
       "      <td>4</td>\n",
       "    </tr>\n",
       "    <tr>\n",
       "      <th>112</th>\n",
       "      <td>Faroe Islands</td>\n",
       "      <td>1</td>\n",
       "      <td>7</td>\n",
       "      <td>5</td>\n",
       "      <td>22</td>\n",
       "      <td>-6.911806</td>\n",
       "      <td>61.892635</td>\n",
       "      <td>4</td>\n",
       "    </tr>\n",
       "    <tr>\n",
       "      <th>113</th>\n",
       "      <td>Peru</td>\n",
       "      <td>2</td>\n",
       "      <td>1</td>\n",
       "      <td>2</td>\n",
       "      <td>10</td>\n",
       "      <td>-75.015152</td>\n",
       "      <td>-9.189967</td>\n",
       "      <td>4</td>\n",
       "    </tr>\n",
       "    <tr>\n",
       "      <th>114</th>\n",
       "      <td>Singapore</td>\n",
       "      <td>3</td>\n",
       "      <td>1</td>\n",
       "      <td>1</td>\n",
       "      <td>12</td>\n",
       "      <td>103.819836</td>\n",
       "      <td>1.352083</td>\n",
       "      <td>4</td>\n",
       "    </tr>\n",
       "  </tbody>\n",
       "</table>\n",
       "<p>115 rows × 8 columns</p>\n",
       "</div>"
      ],
      "text/plain": [
       "           country  gold  silver  bronze  total   longitude   latitude  class\n",
       "0       FR Germany   289     218     198   1501   10.451526  51.165691      1\n",
       "1           Sweden   190     205     143   1123   18.643501  60.128161      1\n",
       "2          Belgium    79      73      70    453    4.469936  50.503887      1\n",
       "3    Great Britain   439     502     483   2804   -3.435973  55.378051      1\n",
       "4      Netherlands   189     239     237   1282    5.291266  52.132633      1\n",
       "..             ...   ...     ...     ...    ...         ...        ...    ...\n",
       "110          Syria     0       0       1      1   38.996815  34.802075      4\n",
       "111     Kazakhstan     1       1       0      5   66.923684  48.019573      4\n",
       "112  Faroe Islands     1       7       5     22   -6.911806  61.892635      4\n",
       "113           Peru     2       1       2     10  -75.015152  -9.189967      4\n",
       "114      Singapore     3       1       1     12  103.819836   1.352083      4\n",
       "\n",
       "[115 rows x 8 columns]"
      ]
     },
     "execution_count": 2,
     "metadata": {},
     "output_type": "execute_result"
    }
   ],
   "source": [
    "medal_by_country = pd.read_csv('data/medal_by_country_coor.csv')\n",
    "medal_by_country"
   ]
  },
  {
   "cell_type": "code",
   "execution_count": 3,
   "id": "faada3b1",
   "metadata": {},
   "outputs": [
    {
     "data": {
      "text/plain": [
       "array([[  0],\n",
       "       [  1],\n",
       "       [  2],\n",
       "       [  3],\n",
       "       [  4],\n",
       "       [  5],\n",
       "       [  6],\n",
       "       [  7],\n",
       "       [  8],\n",
       "       [  9],\n",
       "       [ 10],\n",
       "       [ 11],\n",
       "       [ 12],\n",
       "       [ 13],\n",
       "       [ 14],\n",
       "       [ 15],\n",
       "       [ 16],\n",
       "       [ 17],\n",
       "       [ 18],\n",
       "       [ 19],\n",
       "       [ 20],\n",
       "       [ 21],\n",
       "       [ 22],\n",
       "       [ 23],\n",
       "       [ 24],\n",
       "       [ 25],\n",
       "       [ 26],\n",
       "       [ 27],\n",
       "       [ 28],\n",
       "       [ 29],\n",
       "       [ 30],\n",
       "       [ 31],\n",
       "       [ 32],\n",
       "       [ 33],\n",
       "       [ 34],\n",
       "       [ 35],\n",
       "       [ 36],\n",
       "       [ 37],\n",
       "       [ 38],\n",
       "       [ 39],\n",
       "       [ 40],\n",
       "       [ 41],\n",
       "       [ 42],\n",
       "       [ 43],\n",
       "       [ 44],\n",
       "       [ 45],\n",
       "       [ 46],\n",
       "       [ 47],\n",
       "       [ 48],\n",
       "       [ 49],\n",
       "       [ 50],\n",
       "       [ 51],\n",
       "       [ 52],\n",
       "       [ 53],\n",
       "       [ 54],\n",
       "       [ 55],\n",
       "       [ 56],\n",
       "       [ 57],\n",
       "       [ 58],\n",
       "       [ 59],\n",
       "       [ 60],\n",
       "       [ 61],\n",
       "       [ 62],\n",
       "       [ 63],\n",
       "       [ 64],\n",
       "       [ 65],\n",
       "       [ 66],\n",
       "       [ 67],\n",
       "       [ 68],\n",
       "       [ 69],\n",
       "       [ 70],\n",
       "       [ 71],\n",
       "       [ 72],\n",
       "       [ 73],\n",
       "       [ 74],\n",
       "       [ 75],\n",
       "       [ 76],\n",
       "       [ 77],\n",
       "       [ 78],\n",
       "       [ 79],\n",
       "       [ 80],\n",
       "       [ 81],\n",
       "       [ 82],\n",
       "       [ 83],\n",
       "       [ 84],\n",
       "       [ 85],\n",
       "       [ 86],\n",
       "       [ 87],\n",
       "       [ 88],\n",
       "       [ 89],\n",
       "       [ 90],\n",
       "       [ 91],\n",
       "       [ 92],\n",
       "       [ 93],\n",
       "       [ 94],\n",
       "       [ 95],\n",
       "       [ 96],\n",
       "       [ 97],\n",
       "       [ 98],\n",
       "       [ 99],\n",
       "       [100],\n",
       "       [101],\n",
       "       [102],\n",
       "       [103],\n",
       "       [104],\n",
       "       [105],\n",
       "       [106],\n",
       "       [107],\n",
       "       [108],\n",
       "       [109],\n",
       "       [110],\n",
       "       [111],\n",
       "       [112],\n",
       "       [113],\n",
       "       [114]])"
      ]
     },
     "execution_count": 3,
     "metadata": {},
     "output_type": "execute_result"
    }
   ],
   "source": [
    "x = np.arange(115).reshape(-1, 1)\n",
    "x"
   ]
  },
  {
   "cell_type": "code",
   "execution_count": 4,
   "id": "32629c70",
   "metadata": {},
   "outputs": [],
   "source": [
    "y_gold = []\n",
    "y_silver = []\n",
    "y_bronze = []\n",
    "for gold,silver,bronze in zip(medal_by_country[\"gold\"],medal_by_country[\"silver\"],medal_by_country[\"bronze\"]):\n",
    "    if gold > 0:\n",
    "        y_gold.append(1)\n",
    "    else:\n",
    "        y_gold.append(0)\n",
    "    if silver > 0:\n",
    "        y_silver.append(1)\n",
    "    else:\n",
    "        y_silver.append(0)\n",
    "    if bronze > 0:\n",
    "        y_bronze.append(1)\n",
    "    else:\n",
    "        y_bronze.append(0)"
   ]
  },
  {
   "cell_type": "code",
   "execution_count": 5,
   "id": "99c3ecee",
   "metadata": {},
   "outputs": [],
   "source": [
    "def logistic_regression(x,y):\n",
    "    data = pd.DataFrame()\n",
    "    data[\"x\"] = np.arange(115)\n",
    "    data[\"y\"] = y\n",
    "    model = LogisticRegression(solver='liblinear', random_state=0)\n",
    "    model = LogisticRegression(solver='liblinear', random_state=0).fit(x, y)\n",
    "    print(\"model.classes_ , model.intercept_ , model.coef_:\" ,model.classes_ , model.intercept_ , model.coef_)\n",
    "    #print(\"model.predict_proba:\",model.predict_proba(x))\n",
    "    #print(\"model.predict(x):\",model.predict(x))\n",
    "    print(\"model.score:\",model.score(x, y_gold))\n",
    "    print(\"confusion_matrix:\",confusion_matrix(y, model.predict(x)))\n",
    "    cm = confusion_matrix(y, model.predict(x))\n",
    "\n",
    "    fig, ax = plt.subplots(figsize=(8, 8))\n",
    "    ax.imshow(cm)\n",
    "    ax.grid(False)\n",
    "    ax.xaxis.set(ticks=(0, 1), ticklabels=('Predicted 0s', 'Predicted 1s'))\n",
    "    ax.yaxis.set(ticks=(0, 1), ticklabels=('Actual 0s', 'Actual 1s'))\n",
    "    ax.set_ylim(1.5, -0.5)\n",
    "    for i in range(2):\n",
    "        for j in range(2):\n",
    "            ax.text(j, i, cm[i, j], ha='center', va='center', color='red')\n",
    "    print(classification_report(y, model.predict(x)))\n",
    "    plt.figure(figsize = (15,8))\n",
    "    sns.regplot(x=x, y=y, data=data, logistic=True, ci=None,scatter_kws={'color': 'black'}, line_kws={'color': 'red'})\n"
   ]
  },
  {
   "cell_type": "code",
   "execution_count": 6,
   "id": "ea7ca502",
   "metadata": {},
   "outputs": [
    {
     "name": "stdout",
     "output_type": "stream",
     "text": [
      "model.classes_ , model.intercept_ , model.coef_: [0 1] [3.14397395] [[-0.02698164]]\n",
      "model.score: 0.8260869565217391\n",
      "confusion_matrix: [[ 0 20]\n",
      " [ 0 95]]\n",
      "              precision    recall  f1-score   support\n",
      "\n",
      "           0       0.00      0.00      0.00        20\n",
      "           1       0.83      1.00      0.90        95\n",
      "\n",
      "    accuracy                           0.83       115\n",
      "   macro avg       0.41      0.50      0.45       115\n",
      "weighted avg       0.68      0.83      0.75       115\n",
      "\n"
     ]
    },
    {
     "name": "stderr",
     "output_type": "stream",
     "text": [
      "C:\\ProgramData\\Anaconda3\\lib\\site-packages\\sklearn\\metrics\\_classification.py:1327: UndefinedMetricWarning: Precision and F-score are ill-defined and being set to 0.0 in labels with no predicted samples. Use `zero_division` parameter to control this behavior.\n",
      "  _warn_prf(average, modifier, msg_start, len(result))\n",
      "C:\\ProgramData\\Anaconda3\\lib\\site-packages\\sklearn\\metrics\\_classification.py:1327: UndefinedMetricWarning: Precision and F-score are ill-defined and being set to 0.0 in labels with no predicted samples. Use `zero_division` parameter to control this behavior.\n",
      "  _warn_prf(average, modifier, msg_start, len(result))\n",
      "C:\\ProgramData\\Anaconda3\\lib\\site-packages\\sklearn\\metrics\\_classification.py:1327: UndefinedMetricWarning: Precision and F-score are ill-defined and being set to 0.0 in labels with no predicted samples. Use `zero_division` parameter to control this behavior.\n",
      "  _warn_prf(average, modifier, msg_start, len(result))\n"
     ]
    },
    {
     "data": {
      "image/png": "[encoded data removed]",
      "text/plain": [
       "<Figure size 576x576 with 1 Axes>"
      ]
     },
     "metadata": {
      "needs_background": "light"
     },
     "output_type": "display_data"
    },
    {
     "data": {
      "image/png": "[encoded data removed]",
      "text/plain": [
       "<Figure size 1080x576 with 1 Axes>"
      ]
     },
     "metadata": {
      "needs_background": "light"
     },
     "output_type": "display_data"
    }
   ],
   "source": [
    "logistic_regression(x,y_gold)"
   ]
  },
  {
   "cell_type": "code",
   "execution_count": 7,
   "id": "e953dffd",
   "metadata": {},
   "outputs": [
    {
     "name": "stdout",
     "output_type": "stream",
     "text": [
      "model.classes_ , model.intercept_ , model.coef_: [0 1] [3.21359235] [[-0.0245016]]\n",
      "model.score: 0.8260869565217391\n",
      "confusion_matrix: [[ 0 16]\n",
      " [ 0 99]]\n"
     ]
    },
    {
     "name": "stderr",
     "output_type": "stream",
     "text": [
      "C:\\ProgramData\\Anaconda3\\lib\\site-packages\\sklearn\\metrics\\_classification.py:1327: UndefinedMetricWarning: Precision and F-score are ill-defined and being set to 0.0 in labels with no predicted samples. Use `zero_division` parameter to control this behavior.\n",
      "  _warn_prf(average, modifier, msg_start, len(result))\n",
      "C:\\ProgramData\\Anaconda3\\lib\\site-packages\\sklearn\\metrics\\_classification.py:1327: UndefinedMetricWarning: Precision and F-score are ill-defined and being set to 0.0 in labels with no predicted samples. Use `zero_division` parameter to control this behavior.\n",
      "  _warn_prf(average, modifier, msg_start, len(result))\n",
      "C:\\ProgramData\\Anaconda3\\lib\\site-packages\\sklearn\\metrics\\_classification.py:1327: UndefinedMetricWarning: Precision and F-score are ill-defined and being set to 0.0 in labels with no predicted samples. Use `zero_division` parameter to control this behavior.\n",
      "  _warn_prf(average, modifier, msg_start, len(result))\n"
     ]
    },
    {
     "name": "stdout",
     "output_type": "stream",
     "text": [
      "              precision    recall  f1-score   support\n",
      "\n",
      "           0       0.00      0.00      0.00        16\n",
      "           1       0.86      1.00      0.93        99\n",
      "\n",
      "    accuracy                           0.86       115\n",
      "   macro avg       0.43      0.50      0.46       115\n",
      "weighted avg       0.74      0.86      0.80       115\n",
      "\n"
     ]
    },
    {
     "data": {
      "image/png": "[encoded data removed]",
      "text/plain": [
       "<Figure size 576x576 with 1 Axes>"
      ]
     },
     "metadata": {
      "needs_background": "light"
     },
     "output_type": "display_data"
    },
    {
     "data": {
      "image/png": "[encoded data removed]",
      "text/plain": [
       "<Figure size 1080x576 with 1 Axes>"
      ]
     },
     "metadata": {
      "needs_background": "light"
     },
     "output_type": "display_data"
    }
   ],
   "source": [
    "logistic_regression(x,y_silver)"
   ]
  },
  {
   "cell_type": "code",
   "execution_count": 8,
   "id": "1ffd1565",
   "metadata": {},
   "outputs": [
    {
     "name": "stdout",
     "output_type": "stream",
     "text": [
      "model.classes_ , model.intercept_ , model.coef_: [0 1] [2.97271014] [[-0.01568323]]\n",
      "model.score: 0.8260869565217391\n",
      "confusion_matrix: [[  0  11]\n",
      " [  0 104]]\n",
      "              precision    recall  f1-score   support\n",
      "\n",
      "           0       0.00      0.00      0.00        11\n",
      "           1       0.90      1.00      0.95       104\n",
      "\n",
      "    accuracy                           0.90       115\n",
      "   macro avg       0.45      0.50      0.47       115\n",
      "weighted avg       0.82      0.90      0.86       115\n",
      "\n"
     ]
    },
    {
     "name": "stderr",
     "output_type": "stream",
     "text": [
      "C:\\ProgramData\\Anaconda3\\lib\\site-packages\\sklearn\\metrics\\_classification.py:1327: UndefinedMetricWarning: Precision and F-score are ill-defined and being set to 0.0 in labels with no predicted samples. Use `zero_division` parameter to control this behavior.\n",
      "  _warn_prf(average, modifier, msg_start, len(result))\n",
      "C:\\ProgramData\\Anaconda3\\lib\\site-packages\\sklearn\\metrics\\_classification.py:1327: UndefinedMetricWarning: Precision and F-score are ill-defined and being set to 0.0 in labels with no predicted samples. Use `zero_division` parameter to control this behavior.\n",
      "  _warn_prf(average, modifier, msg_start, len(result))\n",
      "C:\\ProgramData\\Anaconda3\\lib\\site-packages\\sklearn\\metrics\\_classification.py:1327: UndefinedMetricWarning: Precision and F-score are ill-defined and being set to 0.0 in labels with no predicted samples. Use `zero_division` parameter to control this behavior.\n",
      "  _warn_prf(average, modifier, msg_start, len(result))\n"
     ]
    },
    {
     "data": {
      "image/png": "[encoded data removed]",
      "text/plain": [
       "<Figure size 576x576 with 1 Axes>"
      ]
     },
     "metadata": {
      "needs_background": "light"
     },
     "output_type": "display_data"
    },
    {
     "data": {
      "image/png": "[encoded data removed]",
      "text/plain": [
       "<Figure size 1080x576 with 1 Axes>"
      ]
     },
     "metadata": {
      "needs_background": "light"
     },
     "output_type": "display_data"
    }
   ],
   "source": [
    "logistic_regression(x,y_bronze)"
   ]
  },
  {
   "cell_type": "code",
   "execution_count": 9,
   "id": "ac4158ec",
   "metadata": {},
   "outputs": [],
   "source": [
    "def LR_statsModels(x_input,y):\n",
    "    x = sm.add_constant(x_input)\n",
    "    model = sm.Logit(y, x)\n",
    "    result = model.fit(method='newton')\n",
    "    print(result.summary())\n",
    "    print(result.summary2())"
   ]
  },
  {
   "cell_type": "code",
   "execution_count": 10,
   "id": "feb7e6d2",
   "metadata": {},
   "outputs": [
    {
     "name": "stdout",
     "output_type": "stream",
     "text": [
      "Optimization terminated successfully.\n",
      "         Current function value: 0.336878\n",
      "         Iterations 7\n",
      "                           Logit Regression Results                           \n",
      "==============================================================================\n",
      "Dep. Variable:                      y   No. Observations:                  115\n",
      "Model:                          Logit   Df Residuals:                      113\n",
      "Method:                           MLE   Df Model:                            1\n",
      "Date:                Mon, 30 May 2022   Pseudo R-squ.:                  0.2709\n",
      "Time:                        18:41:12   Log-Likelihood:                -38.741\n",
      "converged:                       True   LL-Null:                       -53.134\n",
      "Covariance Type:            nonrobust   LLR p-value:                 8.081e-08\n",
      "==============================================================================\n",
      "                 coef    std err          z      P>|z|      [0.025      0.975]\n",
      "------------------------------------------------------------------------------\n",
      "const          5.3957      1.117      4.829      0.000       3.206       7.586\n",
      "x1            -0.0526      0.013     -4.112      0.000      -0.078      -0.028\n",
      "==============================================================================\n",
      "                         Results: Logit\n",
      "=================================================================\n",
      "Model:              Logit            Pseudo R-squared: 0.271     \n",
      "Dependent Variable: y                AIC:              81.4820   \n",
      "Date:               2022-05-30 18:41 BIC:              86.9718   \n",
      "No. Observations:   115              Log-Likelihood:   -38.741   \n",
      "Df Model:           1                LL-Null:          -53.134   \n",
      "Df Residuals:       113              LLR p-value:      8.0811e-08\n",
      "Converged:          1.0000           Scale:            1.0000    \n",
      "No. Iterations:     7.0000                                       \n",
      "-------------------------------------------------------------------\n",
      "           Coef.    Std.Err.      z      P>|z|     [0.025    0.975]\n",
      "-------------------------------------------------------------------\n",
      "const      5.3957     1.1173    4.8293   0.0000    3.2059    7.5855\n",
      "x1        -0.0526     0.0128   -4.1123   0.0000   -0.0777   -0.0275\n",
      "=================================================================\n",
      "\n"
     ]
    }
   ],
   "source": [
    "LR_statsModels(x,y_gold)"
   ]
  },
  {
   "cell_type": "code",
   "execution_count": 30,
   "id": "f51a5931",
   "metadata": {},
   "outputs": [],
   "source": [
    "def handwriting_recognition(x,y):\n",
    "    x, y = load_digits(return_X_y=True)\n",
    "    #print(x,y)\n",
    "    x_train, x_test, y_train, y_test =train_test_split(x, y, test_size=0.2, random_state=0)\n",
    "    scaler = StandardScaler()\n",
    "    x_train = scaler.fit_transform(x_train)\n",
    "    model = LogisticRegression(solver='liblinear', C=0.05, multi_class='ovr',random_state=0)\n",
    "    model.fit(x_train, y_train)\n",
    "    x_test = scaler.transform(x_test)\n",
    "    y_pred = model.predict(x_test)\n",
    "    print(\"Model Score train:\",model.score(x_train, y_train))\n",
    "    print(\"Model Score test\",model.score(x_test, y_test))\n",
    "    print(\"Confusion Matrix:\", confusion_matrix(y_test, y_pred))\n",
    "    print(classification_report(y_test, y_pred))\n",
    "    cm = confusion_matrix(y_test, y_pred)\n",
    "\n",
    "    fig, ax = plt.subplots(figsize=(8, 8))\n",
    "    ax.imshow(cm)\n",
    "    ax.grid(False)\n",
    "    ax.set_xlabel('Predicted outputs', fontsize=10, color='black')\n",
    "    ax.set_ylabel('Actual outputs', fontsize=10, color='black')\n",
    "    ax.xaxis.set(ticks=range(10))\n",
    "    ax.yaxis.set(ticks=range(10))\n",
    "    ax.set_ylim(9.5, -0.5)\n",
    "    for i in range(10):\n",
    "        for j in range(10):\n",
    "            ax.text(j, i, cm[i, j], ha='center', va='center', color='white')\n",
    "    plt.show()"
   ]
  },
  {
   "cell_type": "code",
   "execution_count": 31,
   "id": "c9309b34",
   "metadata": {},
   "outputs": [
    {
     "name": "stdout",
     "output_type": "stream",
     "text": [
      "Model Score train: 0.964509394572025\n",
      "Model Score test 0.9416666666666667\n",
      "Confusion Matrix: [[27  0  0  0  0  0  0  0  0  0]\n",
      " [ 0 32  0  0  0  0  1  0  1  1]\n",
      " [ 1  1 33  1  0  0  0  0  0  0]\n",
      " [ 0  0  1 28  0  0  0  0  0  0]\n",
      " [ 0  0  0  0 29  0  0  1  0  0]\n",
      " [ 0  0  0  0  0 39  0  0  0  1]\n",
      " [ 0  1  0  0  0  0 43  0  0  0]\n",
      " [ 0  0  0  0  0  0  0 39  0  0]\n",
      " [ 0  2  1  2  0  0  0  1 33  0]\n",
      " [ 0  0  0  1  0  1  0  2  1 36]]\n",
      "              precision    recall  f1-score   support\n",
      "\n",
      "           0       0.96      1.00      0.98        27\n",
      "           1       0.89      0.91      0.90        35\n",
      "           2       0.94      0.92      0.93        36\n",
      "           3       0.88      0.97      0.92        29\n",
      "           4       1.00      0.97      0.98        30\n",
      "           5       0.97      0.97      0.97        40\n",
      "           6       0.98      0.98      0.98        44\n",
      "           7       0.91      1.00      0.95        39\n",
      "           8       0.94      0.85      0.89        39\n",
      "           9       0.95      0.88      0.91        41\n",
      "\n",
      "    accuracy                           0.94       360\n",
      "   macro avg       0.94      0.94      0.94       360\n",
      "weighted avg       0.94      0.94      0.94       360\n",
      "\n"
     ]
    },
    {
     "data": {
      "image/png": "[encoded data removed]",
      "text/plain": [
       "<Figure size 576x576 with 1 Axes>"
      ]
     },
     "metadata": {
      "needs_background": "light"
     },
     "output_type": "display_data"
    }
   ],
   "source": [
    "handwriting_recognition(x,y_gold)"
   ]
  },
  {
   "cell_type": "code",
   "execution_count": 32,
   "id": "992cb933",
   "metadata": {},
   "outputs": [
    {
     "name": "stdout",
     "output_type": "stream",
     "text": [
      "Model Score train: 0.964509394572025\n",
      "Model Score test 0.9416666666666667\n",
      "Confusion Matrix: [[27  0  0  0  0  0  0  0  0  0]\n",
      " [ 0 32  0  0  0  0  1  0  1  1]\n",
      " [ 1  1 33  1  0  0  0  0  0  0]\n",
      " [ 0  0  1 28  0  0  0  0  0  0]\n",
      " [ 0  0  0  0 29  0  0  1  0  0]\n",
      " [ 0  0  0  0  0 39  0  0  0  1]\n",
      " [ 0  1  0  0  0  0 43  0  0  0]\n",
      " [ 0  0  0  0  0  0  0 39  0  0]\n",
      " [ 0  2  1  2  0  0  0  1 33  0]\n",
      " [ 0  0  0  1  0  1  0  2  1 36]]\n",
      "              precision    recall  f1-score   support\n",
      "\n",
      "           0       0.96      1.00      0.98        27\n",
      "           1       0.89      0.91      0.90        35\n",
      "           2       0.94      0.92      0.93        36\n",
      "           3       0.88      0.97      0.92        29\n",
      "           4       1.00      0.97      0.98        30\n",
      "           5       0.97      0.97      0.97        40\n",
      "           6       0.98      0.98      0.98        44\n",
      "           7       0.91      1.00      0.95        39\n",
      "           8       0.94      0.85      0.89        39\n",
      "           9       0.95      0.88      0.91        41\n",
      "\n",
      "    accuracy                           0.94       360\n",
      "   macro avg       0.94      0.94      0.94       360\n",
      "weighted avg       0.94      0.94      0.94       360\n",
      "\n"
     ]
    },
    {
     "data": {
      "image/png": "[encoded data removed]",
      "text/plain": [
       "<Figure size 576x576 with 1 Axes>"
      ]
     },
     "metadata": {
      "needs_background": "light"
     },
     "output_type": "display_data"
    }
   ],
   "source": [
    "handwriting_recognition(x,y_silver)"
   ]
  },
  {
   "cell_type": "code",
   "execution_count": 33,
   "id": "b6e5bee6",
   "metadata": {},
   "outputs": [
    {
     "name": "stdout",
     "output_type": "stream",
     "text": [
      "Model Score train: 0.964509394572025\n",
      "Model Score test 0.9416666666666667\n",
      "Confusion Matrix: [[27  0  0  0  0  0  0  0  0  0]\n",
      " [ 0 32  0  0  0  0  1  0  1  1]\n",
      " [ 1  1 33  1  0  0  0  0  0  0]\n",
      " [ 0  0  1 28  0  0  0  0  0  0]\n",
      " [ 0  0  0  0 29  0  0  1  0  0]\n",
      " [ 0  0  0  0  0 39  0  0  0  1]\n",
      " [ 0  1  0  0  0  0 43  0  0  0]\n",
      " [ 0  0  0  0  0  0  0 39  0  0]\n",
      " [ 0  2  1  2  0  0  0  1 33  0]\n",
      " [ 0  0  0  1  0  1  0  2  1 36]]\n",
      "              precision    recall  f1-score   support\n",
      "\n",
      "           0       0.96      1.00      0.98        27\n",
      "           1       0.89      0.91      0.90        35\n",
      "           2       0.94      0.92      0.93        36\n",
      "           3       0.88      0.97      0.92        29\n",
      "           4       1.00      0.97      0.98        30\n",
      "           5       0.97      0.97      0.97        40\n",
      "           6       0.98      0.98      0.98        44\n",
      "           7       0.91      1.00      0.95        39\n",
      "           8       0.94      0.85      0.89        39\n",
      "           9       0.95      0.88      0.91        41\n",
      "\n",
      "    accuracy                           0.94       360\n",
      "   macro avg       0.94      0.94      0.94       360\n",
      "weighted avg       0.94      0.94      0.94       360\n",
      "\n"
     ]
    },
    {
     "data": {
      "image/png": "[encoded data removed]",
      "text/plain": [
       "<Figure size 576x576 with 1 Axes>"
      ]
     },
     "metadata": {
      "needs_background": "light"
     },
     "output_type": "display_data"
    }
   ],
   "source": [
    "handwriting_recognition(x,y_bronze)"
   ]
  },
  {
   "cell_type": "code",
   "execution_count": null,
   "id": "a0bad7fa",
   "metadata": {},
   "outputs": [],
   "source": []
  },
  {
   "cell_type": "code",
   "execution_count": null,
   "id": "101dc5b4",
   "metadata": {},
   "outputs": [],
   "source": []
  }
 ],
 "metadata": {
  "kernelspec": {
   "display_name": "Python 3 (ipykernel)",
   "language": "python",
   "name": "python3"
  },
  "language_info": {
   "codemirror_mode": {
    "name": "ipython",
    "version": 3
   },
   "file_extension": ".py",
   "mimetype": "text/x-python",
   "name": "python",
   "nbconvert_exporter": "python",
   "pygments_lexer": "ipython3",
   "version": "3.9.12"
  }
 },
 "nbformat": 4,
 "nbformat_minor": 5
}
